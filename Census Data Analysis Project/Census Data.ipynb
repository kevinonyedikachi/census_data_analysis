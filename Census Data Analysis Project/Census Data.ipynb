{
 "cells": [
  {
   "cell_type": "markdown",
   "id": "d67ff0f2",
   "metadata": {},
   "source": [
    "#### Import the necessary libraries"
   ]
  },
  {
   "cell_type": "code",
   "execution_count": 1,
   "id": "ae6c5593",
   "metadata": {},
   "outputs": [],
   "source": [
    "import numpy as np\n",
    "import pandas as pd\n",
    "import matplotlib.pyplot as plt\n",
    "%matplotlib inline\n",
    "import seaborn as sns\n",
    "import warnings\n",
    "warnings.filterwarnings('ignore')\n",
    "from matplotlib.offsetbox import OffsetImage, AnnotationBbox\n",
    "from ydata_profiling import ProfileReport\n",
    "import re"
   ]
  },
  {
   "cell_type": "code",
   "execution_count": 2,
   "id": "5e6703cc",
   "metadata": {
    "scrolled": true
   },
   "outputs": [
    {
     "data": {
      "text/html": [
       "<div>\n",
       "<style scoped>\n",
       "    .dataframe tbody tr th:only-of-type {\n",
       "        vertical-align: middle;\n",
       "    }\n",
       "\n",
       "    .dataframe tbody tr th {\n",
       "        vertical-align: top;\n",
       "    }\n",
       "\n",
       "    .dataframe thead th {\n",
       "        text-align: right;\n",
       "    }\n",
       "</style>\n",
       "<table border=\"1\" class=\"dataframe\">\n",
       "  <thead>\n",
       "    <tr style=\"text-align: right;\">\n",
       "      <th></th>\n",
       "      <th>House Number</th>\n",
       "      <th>Street</th>\n",
       "      <th>First Name</th>\n",
       "      <th>Surname</th>\n",
       "      <th>Age</th>\n",
       "      <th>Relationship to Head of House</th>\n",
       "      <th>Marital Status</th>\n",
       "      <th>Gender</th>\n",
       "      <th>Occupation</th>\n",
       "      <th>Infirmity</th>\n",
       "      <th>Religion</th>\n",
       "    </tr>\n",
       "  </thead>\n",
       "  <tbody>\n",
       "    <tr>\n",
       "      <th>0</th>\n",
       "      <td>1</td>\n",
       "      <td>Scott Dale</td>\n",
       "      <td>Maureen</td>\n",
       "      <td>Cox</td>\n",
       "      <td>50</td>\n",
       "      <td>Head</td>\n",
       "      <td>Single</td>\n",
       "      <td>Female</td>\n",
       "      <td>Engineer, building services</td>\n",
       "      <td>NaN</td>\n",
       "      <td>Catholic</td>\n",
       "    </tr>\n",
       "    <tr>\n",
       "      <th>1</th>\n",
       "      <td>1</td>\n",
       "      <td>Scott Dale</td>\n",
       "      <td>Rhys</td>\n",
       "      <td>Brown</td>\n",
       "      <td>52</td>\n",
       "      <td>Partner</td>\n",
       "      <td>Single</td>\n",
       "      <td>Male</td>\n",
       "      <td>Engineer, mining</td>\n",
       "      <td>NaN</td>\n",
       "      <td>Catholic</td>\n",
       "    </tr>\n",
       "    <tr>\n",
       "      <th>2</th>\n",
       "      <td>2</td>\n",
       "      <td>Scott Dale</td>\n",
       "      <td>Lorraine</td>\n",
       "      <td>Allen</td>\n",
       "      <td>69</td>\n",
       "      <td>Head</td>\n",
       "      <td>Married</td>\n",
       "      <td>Female</td>\n",
       "      <td>Unemployed</td>\n",
       "      <td>NaN</td>\n",
       "      <td>Methodist</td>\n",
       "    </tr>\n",
       "    <tr>\n",
       "      <th>3</th>\n",
       "      <td>2</td>\n",
       "      <td>Scott Dale</td>\n",
       "      <td>Lewis</td>\n",
       "      <td>Allen</td>\n",
       "      <td>72</td>\n",
       "      <td>Husband</td>\n",
       "      <td>Married</td>\n",
       "      <td>Male</td>\n",
       "      <td>Retired Associate Professor</td>\n",
       "      <td>NaN</td>\n",
       "      <td>Methodist</td>\n",
       "    </tr>\n",
       "    <tr>\n",
       "      <th>4</th>\n",
       "      <td>3</td>\n",
       "      <td>Scott Dale</td>\n",
       "      <td>Molly</td>\n",
       "      <td>Patel</td>\n",
       "      <td>36</td>\n",
       "      <td>Head</td>\n",
       "      <td>Married</td>\n",
       "      <td>Female</td>\n",
       "      <td>Engineer, land</td>\n",
       "      <td>NaN</td>\n",
       "      <td>NaN</td>\n",
       "    </tr>\n",
       "  </tbody>\n",
       "</table>\n",
       "</div>"
      ],
      "text/plain": [
       "   House Number      Street First Name Surname Age  \\\n",
       "0             1  Scott Dale    Maureen     Cox  50   \n",
       "1             1  Scott Dale       Rhys   Brown  52   \n",
       "2             2  Scott Dale   Lorraine   Allen  69   \n",
       "3             2  Scott Dale      Lewis   Allen  72   \n",
       "4             3  Scott Dale      Molly   Patel  36   \n",
       "\n",
       "  Relationship to Head of House Marital Status  Gender  \\\n",
       "0                          Head         Single  Female   \n",
       "1                       Partner         Single    Male   \n",
       "2                          Head        Married  Female   \n",
       "3                       Husband        Married    Male   \n",
       "4                          Head        Married  Female   \n",
       "\n",
       "                    Occupation Infirmity   Religion  \n",
       "0  Engineer, building services       NaN   Catholic  \n",
       "1             Engineer, mining       NaN   Catholic  \n",
       "2                   Unemployed       NaN  Methodist  \n",
       "3  Retired Associate Professor       NaN  Methodist  \n",
       "4               Engineer, land       NaN        NaN  "
      ]
     },
     "execution_count": 2,
     "metadata": {},
     "output_type": "execute_result"
    }
   ],
   "source": [
    "# Load the dataset\n",
    "file_path = 'census06.csv'\n",
    "census = pd.read_csv(file_path)\n",
    "\n",
    "# Display first few rows\n",
    "census.head()"
   ]
  },
  {
   "cell_type": "markdown",
   "id": "e95d0ad2",
   "metadata": {},
   "source": [
    "#### Initial data profiling"
   ]
  },
  {
   "cell_type": "code",
   "execution_count": 3,
   "id": "500bf8db",
   "metadata": {},
   "outputs": [
    {
     "data": {
      "application/vnd.jupyter.widget-view+json": {
       "model_id": "109494b9c11b46049fff5607538b1df8",
       "version_major": 2,
       "version_minor": 0
      },
      "text/plain": [
       "Summarize dataset:   0%|          | 0/5 [00:00<?, ?it/s]"
      ]
     },
     "metadata": {},
     "output_type": "display_data"
    },
    {
     "data": {
      "application/vnd.jupyter.widget-view+json": {
       "model_id": "4ae4d26274594bf7bfdfdde99efff8d2",
       "version_major": 2,
       "version_minor": 0
      },
      "text/plain": [
       "Generate report structure:   0%|          | 0/1 [00:00<?, ?it/s]"
      ]
     },
     "metadata": {},
     "output_type": "display_data"
    },
    {
     "data": {
      "application/vnd.jupyter.widget-view+json": {
       "model_id": "a60619d2c737445da77b09cb33c4ee9e",
       "version_major": 2,
       "version_minor": 0
      },
      "text/plain": [
       "Render HTML:   0%|          | 0/1 [00:00<?, ?it/s]"
      ]
     },
     "metadata": {},
     "output_type": "display_data"
    },
    {
     "data": {
      "application/vnd.jupyter.widget-view+json": {
       "model_id": "1f4fbc0ee6594f49b0d996de13283849",
       "version_major": 2,
       "version_minor": 0
      },
      "text/plain": [
       "Export report to file:   0%|          | 0/1 [00:00<?, ?it/s]"
      ]
     },
     "metadata": {},
     "output_type": "display_data"
    }
   ],
   "source": [
    "# Generata initail report\n",
    "initial_profile = ProfileReport(census, title='Census Data Profiling Report', explorative= True)\n",
    "\n",
    "# Save the profile report to HTML file\n",
    "initial_profile.to_file('initial_census_data_report.html')"
   ]
  },
  {
   "cell_type": "markdown",
   "id": "00d33649",
   "metadata": {},
   "source": [
    "#### Handle the Colums datatype"
   ]
  },
  {
   "cell_type": "code",
   "execution_count": 4,
   "id": "a2341720",
   "metadata": {
    "scrolled": false
   },
   "outputs": [
    {
     "name": "stdout",
     "output_type": "stream",
     "text": [
      "<class 'pandas.core.frame.DataFrame'>\n",
      "RangeIndex: 8329 entries, 0 to 8328\n",
      "Data columns (total 11 columns):\n",
      " #   Column                         Non-Null Count  Dtype \n",
      "---  ------                         --------------  ----- \n",
      " 0   House Number                   8329 non-null   int64 \n",
      " 1   Street                         8329 non-null   object\n",
      " 2   First Name                     8329 non-null   object\n",
      " 3   Surname                        8329 non-null   object\n",
      " 4   Age                            8329 non-null   object\n",
      " 5   Relationship to Head of House  7780 non-null   object\n",
      " 6   Marital Status                 6273 non-null   object\n",
      " 7   Gender                         8329 non-null   object\n",
      " 8   Occupation                     8329 non-null   object\n",
      " 9   Infirmity                      68 non-null     object\n",
      " 10  Religion                       3424 non-null   object\n",
      "dtypes: int64(1), object(10)\n",
      "memory usage: 715.9+ KB\n"
     ]
    }
   ],
   "source": [
    "# Check the cesus informations\n",
    "census.info()"
   ]
  },
  {
   "cell_type": "code",
   "execution_count": 5,
   "id": "4eb22d47",
   "metadata": {},
   "outputs": [],
   "source": [
    "# List Categorical column\n",
    "categorical_column = ['Relationship to Head of House','Marital Status','Gender','Infirmity','Religion']\n"
   ]
  },
  {
   "cell_type": "code",
   "execution_count": 6,
   "id": "ba56b9d0",
   "metadata": {},
   "outputs": [],
   "source": [
    "# Convert 'Category' column to categorical\n",
    "for column in categorical_column:\n",
    "    census[column] = census[column].astype('category')\n",
    "    "
   ]
  },
  {
   "cell_type": "markdown",
   "id": "90b9de5d",
   "metadata": {},
   "source": [
    "Clean the Age column\n",
    "- Drop the two rows in the Age with empty strings because they would not significantly impact the outcome of the entire data set.\n"
   ]
  },
  {
   "cell_type": "code",
   "execution_count": 7,
   "id": "10ee518c",
   "metadata": {},
   "outputs": [],
   "source": [
    "# Drop row with empty Age value\n",
    "census = census[census['Age'] != ' ']"
   ]
  },
  {
   "cell_type": "code",
   "execution_count": 8,
   "id": "7b8d41c8",
   "metadata": {
    "scrolled": true
   },
   "outputs": [],
   "source": [
    "# Convert 'Age' column to float and then to int\n",
    "census['Age'] = census['Age'].astype('float').astype('int')"
   ]
  },
  {
   "cell_type": "code",
   "execution_count": 9,
   "id": "b42922c4",
   "metadata": {},
   "outputs": [],
   "source": [
    "census['First Name'] = census['First Name'].astype('str')"
   ]
  },
  {
   "cell_type": "code",
   "execution_count": 10,
   "id": "c3af8251",
   "metadata": {},
   "outputs": [
    {
     "name": "stdout",
     "output_type": "stream",
     "text": [
      "<class 'pandas.core.frame.DataFrame'>\n",
      "Index: 8327 entries, 0 to 8328\n",
      "Data columns (total 11 columns):\n",
      " #   Column                         Non-Null Count  Dtype   \n",
      "---  ------                         --------------  -----   \n",
      " 0   House Number                   8327 non-null   int64   \n",
      " 1   Street                         8327 non-null   object  \n",
      " 2   First Name                     8327 non-null   object  \n",
      " 3   Surname                        8327 non-null   object  \n",
      " 4   Age                            8327 non-null   int32   \n",
      " 5   Relationship to Head of House  7778 non-null   category\n",
      " 6   Marital Status                 6271 non-null   category\n",
      " 7   Gender                         8327 non-null   category\n",
      " 8   Occupation                     8327 non-null   object  \n",
      " 9   Infirmity                      68 non-null     category\n",
      " 10  Religion                       3423 non-null   category\n",
      "dtypes: category(5), int32(1), int64(1), object(4)\n",
      "memory usage: 465.3+ KB\n"
     ]
    }
   ],
   "source": [
    "# Print data info\n",
    "census.info()"
   ]
  },
  {
   "cell_type": "markdown",
   "id": "10ac70a6",
   "metadata": {},
   "source": [
    "#### Handle Missing Values"
   ]
  },
  {
   "cell_type": "code",
   "execution_count": 11,
   "id": "5d84156d",
   "metadata": {},
   "outputs": [
    {
     "data": {
      "text/plain": [
       "House Number                        0\n",
       "Street                              0\n",
       "First Name                          0\n",
       "Surname                             0\n",
       "Age                                 0\n",
       "Relationship to Head of House     549\n",
       "Marital Status                   2056\n",
       "Gender                              0\n",
       "Occupation                          0\n",
       "Infirmity                        8259\n",
       "Religion                         4904\n",
       "dtype: int64"
      ]
     },
     "execution_count": 11,
     "metadata": {},
     "output_type": "execute_result"
    }
   ],
   "source": [
    "# Identify missing values\n",
    "missing_values = census.isnull().sum()\n",
    "\n",
    "# Output missing values\n",
    "missing_values "
   ]
  },
  {
   "cell_type": "markdown",
   "id": "ce1a7018",
   "metadata": {},
   "source": [
    "#### \"Relationship to Head of House\" missing data"
   ]
  },
  {
   "cell_type": "code",
   "execution_count": 12,
   "id": "ad04553c",
   "metadata": {},
   "outputs": [
    {
     "data": {
      "text/plain": [
       "['Head',\n",
       " 'Partner',\n",
       " 'Husband',\n",
       " 'Son',\n",
       " nan,\n",
       " 'Daughter',\n",
       " 'Wife',\n",
       " 'Grandson',\n",
       " 'Lodger',\n",
       " 'Visitor',\n",
       " 'Cousin',\n",
       " 'Step-Son',\n",
       " 'Sibling',\n",
       " 'Granddaughter',\n",
       " 'Step-Daughter',\n",
       " 'Adopted Son',\n",
       " 'Nephew',\n",
       " 'Adopted Daughter',\n",
       " 'Son-in-law',\n",
       " 'Neice',\n",
       " 'Daughter-in-law',\n",
       " 'Adopted Grandson',\n",
       " 'Adopted Granddaughter']"
      ]
     },
     "execution_count": 12,
     "metadata": {},
     "output_type": "execute_result"
    }
   ],
   "source": [
    "# Check for unique values\n",
    "list(census['Relationship to Head of House'].unique())"
   ]
  },
  {
   "cell_type": "code",
   "execution_count": 13,
   "id": "21db3e3f",
   "metadata": {},
   "outputs": [],
   "source": [
    "# Define a function to update Relationship to Head of House Status\n",
    "def update_relationship_to_head_status(row):\n",
    "     if pd.isna(row['Relationship to Head of House']):\n",
    "        return 'Unknown'\n",
    "     else:\n",
    "        return row['Relationship to Head of House']"
   ]
  },
  {
   "cell_type": "code",
   "execution_count": 14,
   "id": "abab5ab5",
   "metadata": {},
   "outputs": [],
   "source": [
    "# Set the Relationship to Head of House with nan values to 'Unknown'\n",
    "\n",
    "\n",
    "# Use apply to update Relationship to Head of House Status column\n",
    "census['Relationship to Head of House'] = census.apply(update_relationship_to_head_status, axis=1)"
   ]
  },
  {
   "cell_type": "code",
   "execution_count": 15,
   "id": "141c898e",
   "metadata": {},
   "outputs": [
    {
     "data": {
      "text/plain": [
       "array(['Head', 'Partner', 'Husband', 'Son', 'Unknown', 'Daughter', 'Wife',\n",
       "       'Grandson', 'Lodger', 'Visitor', 'Cousin', 'Step-Son', 'Sibling',\n",
       "       'Granddaughter', 'Step-Daughter', 'Adopted Son', 'Nephew',\n",
       "       'Adopted Daughter', 'Son-in-law', 'Neice', 'Daughter-in-law',\n",
       "       'Adopted Grandson', 'Adopted Granddaughter'], dtype=object)"
      ]
     },
     "execution_count": 15,
     "metadata": {},
     "output_type": "execute_result"
    }
   ],
   "source": [
    "# Check for unique values\n",
    "census['Relationship to Head of House'].unique()"
   ]
  },
  {
   "cell_type": "code",
   "execution_count": 16,
   "id": "673e20ff",
   "metadata": {},
   "outputs": [
    {
     "data": {
      "text/plain": [
       "0"
      ]
     },
     "execution_count": 16,
     "metadata": {},
     "output_type": "execute_result"
    }
   ],
   "source": [
    "# Check for missing values\n",
    "census['Relationship to Head of House'].isnull().sum()"
   ]
  },
  {
   "cell_type": "markdown",
   "id": "420f1470",
   "metadata": {},
   "source": [
    "#### \"Marital Status\" missing data"
   ]
  },
  {
   "cell_type": "code",
   "execution_count": 17,
   "id": "4571a61b",
   "metadata": {},
   "outputs": [
    {
     "data": {
      "text/plain": [
       "['Single', 'Married', 'Divorced', NaN, 'Widowed', ' ']\n",
       "Categories (5, object): [' ', 'Divorced', 'Married', 'Single', 'Widowed']"
      ]
     },
     "execution_count": 17,
     "metadata": {},
     "output_type": "execute_result"
    }
   ],
   "source": [
    "# Check for unique values\n",
    "census['Marital Status'].unique()"
   ]
  },
  {
   "cell_type": "markdown",
   "id": "72734684",
   "metadata": {},
   "source": [
    "Observation\n",
    "- There are both missing null values and empty strings in the marital status\n",
    "- also note that an empty values is not the same as a null value\n",
    "\n",
    "The United Nations Convention on the Rights of the Child (UNCRC) defines a child as everyone under 18 unless, \"under the law applicable to the child, majority is attained earlier\".\n",
    "\n",
    "NSPCC 2023, 'Children and the law', NSPCC Learning, 20 December 2023, https://learning.nspcc.org.uk/child-protection-system/children-the-law"
   ]
  },
  {
   "cell_type": "code",
   "execution_count": 18,
   "id": "fb90a607",
   "metadata": {},
   "outputs": [],
   "source": [
    "# Define a function to update Marital Status\n",
    "def update_marital_status(row):\n",
    "    if row['Age'] < 18:\n",
    "        return 'Child'\n",
    "    if row['Marital Status'] == ' ':\n",
    "        return 'Unknown'\n",
    "    else:\n",
    "        return row['Marital Status']"
   ]
  },
  {
   "cell_type": "code",
   "execution_count": 19,
   "id": "10c20169",
   "metadata": {},
   "outputs": [],
   "source": [
    "# Set the Marital Status of children below the age of 18 to Child\n",
    "# Set Marital Status with empty string to unknown\n",
    "\n",
    "# Use apply to update Marital Status column\n",
    "census['Marital Status'] = census.apply(update_marital_status, axis=1)"
   ]
  },
  {
   "cell_type": "code",
   "execution_count": 20,
   "id": "16985abe",
   "metadata": {},
   "outputs": [
    {
     "data": {
      "text/plain": [
       "array(['Single', 'Married', 'Divorced', 'Child', 'Widowed', 'Unknown'],\n",
       "      dtype=object)"
      ]
     },
     "execution_count": 20,
     "metadata": {},
     "output_type": "execute_result"
    }
   ],
   "source": [
    "# Check for unique values\n",
    "census['Marital Status'].unique()"
   ]
  },
  {
   "cell_type": "code",
   "execution_count": 21,
   "id": "a8d6dd2b",
   "metadata": {},
   "outputs": [
    {
     "data": {
      "text/plain": [
       "0"
      ]
     },
     "execution_count": 21,
     "metadata": {},
     "output_type": "execute_result"
    }
   ],
   "source": [
    "# Check for missing values\n",
    "census['Marital Status'].isnull().sum()"
   ]
  },
  {
   "cell_type": "markdown",
   "id": "80383129",
   "metadata": {},
   "source": [
    "#### \"Infirmity\" missing data"
   ]
  },
  {
   "cell_type": "code",
   "execution_count": 22,
   "id": "6dfcacc0",
   "metadata": {},
   "outputs": [
    {
     "data": {
      "text/plain": [
       "[NaN, 'Physical Disability', 'Mental Disability', 'Unknown Infection', ' ', 'Disabled', 'Blind', 'Deaf']\n",
       "Categories (7, object): [' ', 'Blind', 'Deaf', 'Disabled', 'Mental Disability', 'Physical Disability', 'Unknown Infection']"
      ]
     },
     "execution_count": 22,
     "metadata": {},
     "output_type": "execute_result"
    }
   ],
   "source": [
    "# Check for unique values\n",
    "census['Infirmity'].unique()"
   ]
  },
  {
   "cell_type": "markdown",
   "id": "145eb6ea",
   "metadata": {},
   "source": [
    "Observation\n",
    "\n",
    "There are null, empty and Unkown Infection as part of the infimity\n",
    "\n",
    "Infirmity refers to a state of physical or mental weakness, often associated with old age or a lack of vitality. \n",
    "\n",
    "'Unknown infection' is not an infirmity and can be replaced with 'Unknown'\n",
    "The null and empty values can also be replaced with 'Unknown'\n",
    "\n",
    "Ronish, R. 2023, 'Difference Between Infirmity and Sickness', Medium, 4 October 2023, https://medium.com/@ronishrh5/difference-between-infirmity-and-sickness-9471b93c6d4d"
   ]
  },
  {
   "cell_type": "code",
   "execution_count": 23,
   "id": "5b542f6f",
   "metadata": {},
   "outputs": [],
   "source": [
    "# Define a function to update Infirmity Status\n",
    "def update_infirmity_status(row):\n",
    "     if pd.isna(row['Infirmity']) or (row['Infirmity'] == 'Unknown Infection') or (row['Infirmity'] == ' '):\n",
    "        return 'Unknown'\n",
    "     else:\n",
    "        return row['Infirmity']"
   ]
  },
  {
   "cell_type": "code",
   "execution_count": 24,
   "id": "2df4c3b1",
   "metadata": {},
   "outputs": [],
   "source": [
    "# Set the Infirmity Status of children below the age of 18 to Child\n",
    "# Set Infirmity Status with empty string to unknown\n",
    "\n",
    "# Use apply to update Marital Status column\n",
    "census['Infirmity']  = census.apply(update_infirmity_status, axis=1)"
   ]
  },
  {
   "cell_type": "code",
   "execution_count": 25,
   "id": "199ddacb",
   "metadata": {},
   "outputs": [
    {
     "data": {
      "text/plain": [
       "array(['Unknown', 'Physical Disability', 'Mental Disability', 'Disabled',\n",
       "       'Blind', 'Deaf'], dtype=object)"
      ]
     },
     "execution_count": 25,
     "metadata": {},
     "output_type": "execute_result"
    }
   ],
   "source": [
    "# Check for unique values\n",
    "census['Infirmity'].unique()"
   ]
  },
  {
   "cell_type": "code",
   "execution_count": 26,
   "id": "6b423f68",
   "metadata": {},
   "outputs": [
    {
     "data": {
      "text/plain": [
       "0"
      ]
     },
     "execution_count": 26,
     "metadata": {},
     "output_type": "execute_result"
    }
   ],
   "source": [
    "# Check for missing values\n",
    "census['Infirmity'].isnull().sum()"
   ]
  },
  {
   "cell_type": "markdown",
   "id": "b245c97b",
   "metadata": {},
   "source": [
    "#### \"Religion\" missing data"
   ]
  },
  {
   "cell_type": "code",
   "execution_count": 27,
   "id": "3eba661c",
   "metadata": {},
   "outputs": [
    {
     "data": {
      "text/plain": [
       "['Catholic', 'Methodist', NaN, 'Christian', 'Sikh', 'Muslim', 'Jewish', 'Buddist', ' ', 'Quaker']\n",
       "Categories (9, object): [' ', 'Buddist', 'Catholic', 'Christian', ..., 'Methodist', 'Muslim', 'Quaker', 'Sikh']"
      ]
     },
     "execution_count": 27,
     "metadata": {},
     "output_type": "execute_result"
    }
   ],
   "source": [
    "# Check for unique values\n",
    "census['Religion'].unique()"
   ]
  },
  {
   "cell_type": "markdown",
   "id": "d8d597cc",
   "metadata": {},
   "source": [
    "Observation\n",
    "- There are both missing null values and empty strings in the religion status\n",
    "- Buddist (Typo, should be corrected to Buddhist)"
   ]
  },
  {
   "cell_type": "code",
   "execution_count": 28,
   "id": "b32df3d0",
   "metadata": {
    "scrolled": true
   },
   "outputs": [
    {
     "data": {
      "text/html": [
       "<div>\n",
       "<style scoped>\n",
       "    .dataframe tbody tr th:only-of-type {\n",
       "        vertical-align: middle;\n",
       "    }\n",
       "\n",
       "    .dataframe tbody tr th {\n",
       "        vertical-align: top;\n",
       "    }\n",
       "\n",
       "    .dataframe thead th {\n",
       "        text-align: right;\n",
       "    }\n",
       "</style>\n",
       "<table border=\"1\" class=\"dataframe\">\n",
       "  <thead>\n",
       "    <tr style=\"text-align: right;\">\n",
       "      <th></th>\n",
       "      <th>House Number</th>\n",
       "      <th>Street</th>\n",
       "      <th>First Name</th>\n",
       "      <th>Surname</th>\n",
       "      <th>Age</th>\n",
       "      <th>Relationship to Head of House</th>\n",
       "      <th>Marital Status</th>\n",
       "      <th>Gender</th>\n",
       "      <th>Occupation</th>\n",
       "      <th>Infirmity</th>\n",
       "      <th>Religion</th>\n",
       "    </tr>\n",
       "  </thead>\n",
       "  <tbody>\n",
       "    <tr>\n",
       "      <th>3054</th>\n",
       "      <td>23</td>\n",
       "      <td>Riley Avenue</td>\n",
       "      <td>Katherine</td>\n",
       "      <td>Scott</td>\n",
       "      <td>25</td>\n",
       "      <td>Head</td>\n",
       "      <td>Single</td>\n",
       "      <td>Female</td>\n",
       "      <td>Unemployed</td>\n",
       "      <td>Unknown</td>\n",
       "      <td></td>\n",
       "    </tr>\n",
       "    <tr>\n",
       "      <th>6456</th>\n",
       "      <td>1</td>\n",
       "      <td>Gibbs Lane</td>\n",
       "      <td>Donna</td>\n",
       "      <td>Mitchell</td>\n",
       "      <td>85</td>\n",
       "      <td>Head</td>\n",
       "      <td>Divorced</td>\n",
       "      <td>Female</td>\n",
       "      <td>Retired Fast food restaurant manager</td>\n",
       "      <td>Unknown</td>\n",
       "      <td></td>\n",
       "    </tr>\n",
       "    <tr>\n",
       "      <th>6824</th>\n",
       "      <td>53</td>\n",
       "      <td>July Isle</td>\n",
       "      <td>Leon</td>\n",
       "      <td>Marshall</td>\n",
       "      <td>23</td>\n",
       "      <td>Unknown</td>\n",
       "      <td>Single</td>\n",
       "      <td>Male</td>\n",
       "      <td>Programmer, multimedia</td>\n",
       "      <td>Unknown</td>\n",
       "      <td></td>\n",
       "    </tr>\n",
       "    <tr>\n",
       "      <th>7573</th>\n",
       "      <td>12</td>\n",
       "      <td>Blackhook Lane</td>\n",
       "      <td>Mohamed</td>\n",
       "      <td>Stephens</td>\n",
       "      <td>51</td>\n",
       "      <td>Husband</td>\n",
       "      <td>Married</td>\n",
       "      <td>Male</td>\n",
       "      <td>Programmer, multimedia</td>\n",
       "      <td>Unknown</td>\n",
       "      <td></td>\n",
       "    </tr>\n",
       "  </tbody>\n",
       "</table>\n",
       "</div>"
      ],
      "text/plain": [
       "      House Number          Street First Name   Surname  Age  \\\n",
       "3054            23    Riley Avenue  Katherine     Scott   25   \n",
       "6456             1      Gibbs Lane      Donna  Mitchell   85   \n",
       "6824            53       July Isle       Leon  Marshall   23   \n",
       "7573            12  Blackhook Lane    Mohamed  Stephens   51   \n",
       "\n",
       "     Relationship to Head of House Marital Status  Gender  \\\n",
       "3054                          Head         Single  Female   \n",
       "6456                          Head       Divorced  Female   \n",
       "6824                       Unknown         Single    Male   \n",
       "7573                       Husband        Married    Male   \n",
       "\n",
       "                                Occupation Infirmity Religion  \n",
       "3054                            Unemployed   Unknown           \n",
       "6456  Retired Fast food restaurant manager   Unknown           \n",
       "6824                Programmer, multimedia   Unknown           \n",
       "7573                Programmer, multimedia   Unknown           "
      ]
     },
     "execution_count": 28,
     "metadata": {},
     "output_type": "execute_result"
    }
   ],
   "source": [
    "census[census['Religion'] == ' ']"
   ]
  },
  {
   "cell_type": "code",
   "execution_count": 29,
   "id": "e6562f3b",
   "metadata": {},
   "outputs": [
    {
     "data": {
      "text/html": [
       "<div>\n",
       "<style scoped>\n",
       "    .dataframe tbody tr th:only-of-type {\n",
       "        vertical-align: middle;\n",
       "    }\n",
       "\n",
       "    .dataframe tbody tr th {\n",
       "        vertical-align: top;\n",
       "    }\n",
       "\n",
       "    .dataframe thead th {\n",
       "        text-align: right;\n",
       "    }\n",
       "</style>\n",
       "<table border=\"1\" class=\"dataframe\">\n",
       "  <thead>\n",
       "    <tr style=\"text-align: right;\">\n",
       "      <th></th>\n",
       "      <th>House Number</th>\n",
       "      <th>Street</th>\n",
       "      <th>First Name</th>\n",
       "      <th>Surname</th>\n",
       "      <th>Age</th>\n",
       "      <th>Relationship to Head of House</th>\n",
       "      <th>Marital Status</th>\n",
       "      <th>Gender</th>\n",
       "      <th>Occupation</th>\n",
       "      <th>Infirmity</th>\n",
       "      <th>Religion</th>\n",
       "    </tr>\n",
       "  </thead>\n",
       "  <tbody>\n",
       "    <tr>\n",
       "      <th>4</th>\n",
       "      <td>3</td>\n",
       "      <td>Scott Dale</td>\n",
       "      <td>Molly</td>\n",
       "      <td>Patel</td>\n",
       "      <td>36</td>\n",
       "      <td>Head</td>\n",
       "      <td>Married</td>\n",
       "      <td>Female</td>\n",
       "      <td>Engineer, land</td>\n",
       "      <td>Unknown</td>\n",
       "      <td>NaN</td>\n",
       "    </tr>\n",
       "    <tr>\n",
       "      <th>5</th>\n",
       "      <td>3</td>\n",
       "      <td>Scott Dale</td>\n",
       "      <td>Norman</td>\n",
       "      <td>Patel</td>\n",
       "      <td>42</td>\n",
       "      <td>Husband</td>\n",
       "      <td>Married</td>\n",
       "      <td>Male</td>\n",
       "      <td>Higher education lecturer</td>\n",
       "      <td>Unknown</td>\n",
       "      <td>NaN</td>\n",
       "    </tr>\n",
       "    <tr>\n",
       "      <th>6</th>\n",
       "      <td>4</td>\n",
       "      <td>Scott Dale</td>\n",
       "      <td>Sophie</td>\n",
       "      <td>Akhtar</td>\n",
       "      <td>38</td>\n",
       "      <td>Head</td>\n",
       "      <td>Divorced</td>\n",
       "      <td>Female</td>\n",
       "      <td>Hydrographic surveyor</td>\n",
       "      <td>Physical Disability</td>\n",
       "      <td>NaN</td>\n",
       "    </tr>\n",
       "    <tr>\n",
       "      <th>7</th>\n",
       "      <td>4</td>\n",
       "      <td>Scott Dale</td>\n",
       "      <td>Jamie</td>\n",
       "      <td>Akhtar</td>\n",
       "      <td>7</td>\n",
       "      <td>Son</td>\n",
       "      <td>Child</td>\n",
       "      <td>Male</td>\n",
       "      <td>Student</td>\n",
       "      <td>Unknown</td>\n",
       "      <td>NaN</td>\n",
       "    </tr>\n",
       "    <tr>\n",
       "      <th>8</th>\n",
       "      <td>5</td>\n",
       "      <td>Scott Dale</td>\n",
       "      <td>Duncan</td>\n",
       "      <td>Law</td>\n",
       "      <td>29</td>\n",
       "      <td>Head</td>\n",
       "      <td>Single</td>\n",
       "      <td>Male</td>\n",
       "      <td>Trading standards officer</td>\n",
       "      <td>Unknown</td>\n",
       "      <td>NaN</td>\n",
       "    </tr>\n",
       "  </tbody>\n",
       "</table>\n",
       "</div>"
      ],
      "text/plain": [
       "   House Number      Street First Name Surname  Age  \\\n",
       "4             3  Scott Dale      Molly   Patel   36   \n",
       "5             3  Scott Dale     Norman   Patel   42   \n",
       "6             4  Scott Dale     Sophie  Akhtar   38   \n",
       "7             4  Scott Dale      Jamie  Akhtar    7   \n",
       "8             5  Scott Dale     Duncan     Law   29   \n",
       "\n",
       "  Relationship to Head of House Marital Status  Gender  \\\n",
       "4                          Head        Married  Female   \n",
       "5                       Husband        Married    Male   \n",
       "6                          Head       Divorced  Female   \n",
       "7                           Son          Child    Male   \n",
       "8                          Head         Single    Male   \n",
       "\n",
       "                  Occupation            Infirmity Religion  \n",
       "4             Engineer, land              Unknown      NaN  \n",
       "5  Higher education lecturer              Unknown      NaN  \n",
       "6      Hydrographic surveyor  Physical Disability      NaN  \n",
       "7                    Student              Unknown      NaN  \n",
       "8  Trading standards officer              Unknown      NaN  "
      ]
     },
     "execution_count": 29,
     "metadata": {},
     "output_type": "execute_result"
    }
   ],
   "source": [
    "# Check for null values\n",
    "census[census['Religion'].isna()].head()"
   ]
  },
  {
   "cell_type": "code",
   "execution_count": 30,
   "id": "7608e501",
   "metadata": {},
   "outputs": [],
   "source": [
    "# Define a function to update Religion Status\n",
    "def update_religion_status(row):\n",
    "    if pd.isna(row['Religion']) or (row['Religion'] == ' '):\n",
    "        return 'Unknown'\n",
    "    # Buddist (Typo, should be corrected to Buddhist)\n",
    "    if row['Religion'] == 'Buddist':\n",
    "        return 'Buddhist'\n",
    "    else:\n",
    "        return row['Religion']"
   ]
  },
  {
   "cell_type": "code",
   "execution_count": 31,
   "id": "4084564a",
   "metadata": {},
   "outputs": [],
   "source": [
    "# Set the Religion Status of null to unknown\n",
    "# Set Religion Status with empty string to unknown\n",
    "\n",
    "# Use apply to update Religion Status column\n",
    "census['Religion']  = census.apply(update_religion_status, axis=1)"
   ]
  },
  {
   "cell_type": "code",
   "execution_count": 32,
   "id": "3ecf777b",
   "metadata": {},
   "outputs": [
    {
     "data": {
      "text/plain": [
       "array(['Catholic', 'Methodist', 'Unknown', 'Christian', 'Sikh', 'Muslim',\n",
       "       'Jewish', 'Buddhist', 'Quaker'], dtype=object)"
      ]
     },
     "execution_count": 32,
     "metadata": {},
     "output_type": "execute_result"
    }
   ],
   "source": [
    "# Check for unique values\n",
    "census['Religion'].unique()"
   ]
  },
  {
   "cell_type": "code",
   "execution_count": 33,
   "id": "6bb1d88b",
   "metadata": {},
   "outputs": [
    {
     "data": {
      "text/plain": [
       "0"
      ]
     },
     "execution_count": 33,
     "metadata": {},
     "output_type": "execute_result"
    }
   ],
   "source": [
    "# Check for missing values\n",
    "census['Religion'].isnull().sum()"
   ]
  },
  {
   "cell_type": "code",
   "execution_count": 34,
   "id": "3a075c4e",
   "metadata": {
    "scrolled": true
   },
   "outputs": [
    {
     "name": "stdout",
     "output_type": "stream",
     "text": [
      "<class 'pandas.core.frame.DataFrame'>\n",
      "Index: 8327 entries, 0 to 8328\n",
      "Data columns (total 11 columns):\n",
      " #   Column                         Non-Null Count  Dtype   \n",
      "---  ------                         --------------  -----   \n",
      " 0   House Number                   8327 non-null   int64   \n",
      " 1   Street                         8327 non-null   object  \n",
      " 2   First Name                     8327 non-null   object  \n",
      " 3   Surname                        8327 non-null   object  \n",
      " 4   Age                            8327 non-null   int32   \n",
      " 5   Relationship to Head of House  8327 non-null   object  \n",
      " 6   Marital Status                 8327 non-null   object  \n",
      " 7   Gender                         8327 non-null   category\n",
      " 8   Occupation                     8327 non-null   object  \n",
      " 9   Infirmity                      8327 non-null   object  \n",
      " 10  Religion                       8327 non-null   object  \n",
      "dtypes: category(1), int32(1), int64(1), object(8)\n",
      "memory usage: 691.3+ KB\n"
     ]
    }
   ],
   "source": [
    "# Print data info\n",
    "census.info()"
   ]
  },
  {
   "cell_type": "markdown",
   "id": "172f7d73",
   "metadata": {},
   "source": [
    "#### Cleaned data profiling"
   ]
  },
  {
   "cell_type": "code",
   "execution_count": 35,
   "id": "4b5bf823",
   "metadata": {},
   "outputs": [
    {
     "data": {
      "application/vnd.jupyter.widget-view+json": {
       "model_id": "274b1a4f0eda4f47a2278c4adb24f3ce",
       "version_major": 2,
       "version_minor": 0
      },
      "text/plain": [
       "Summarize dataset:   0%|          | 0/5 [00:00<?, ?it/s]"
      ]
     },
     "metadata": {},
     "output_type": "display_data"
    },
    {
     "data": {
      "application/vnd.jupyter.widget-view+json": {
       "model_id": "a2e93b27c45b4b1bb39bae43f02c227c",
       "version_major": 2,
       "version_minor": 0
      },
      "text/plain": [
       "Generate report structure:   0%|          | 0/1 [00:00<?, ?it/s]"
      ]
     },
     "metadata": {},
     "output_type": "display_data"
    },
    {
     "data": {
      "application/vnd.jupyter.widget-view+json": {
       "model_id": "0c1574987725480a8ca5933c3acd3249",
       "version_major": 2,
       "version_minor": 0
      },
      "text/plain": [
       "Render HTML:   0%|          | 0/1 [00:00<?, ?it/s]"
      ]
     },
     "metadata": {},
     "output_type": "display_data"
    },
    {
     "data": {
      "application/vnd.jupyter.widget-view+json": {
       "model_id": "a6c4b61976564c0f85775c88a6c57e7b",
       "version_major": 2,
       "version_minor": 0
      },
      "text/plain": [
       "Export report to file:   0%|          | 0/1 [00:00<?, ?it/s]"
      ]
     },
     "metadata": {},
     "output_type": "display_data"
    }
   ],
   "source": [
    "# Generata initail report\n",
    "initial_profile = ProfileReport(census, title='Cleaned Census Data Profiling Report', explorative= True)\n",
    "\n",
    "# Save the profile report to HTML file\n",
    "initial_profile.to_file('cleaned_census_data_report.html')"
   ]
  },
  {
   "cell_type": "markdown",
   "id": "e1055115",
   "metadata": {},
   "source": [
    "#### Examine the age distribution (age pyramid) of the population."
   ]
  },
  {
   "cell_type": "code",
   "execution_count": 36,
   "id": "e7f13237",
   "metadata": {},
   "outputs": [
    {
     "name": "stdout",
     "output_type": "stream",
     "text": [
      "length of labels = 20 and length of bins = 21\n"
     ]
    }
   ],
   "source": [
    "# Define the bins and labels\n",
    "bins = [0, 4, 9, 14, 19, 24, 29, 34, 39, 44, 49, 54, 59, 64, 69, 74, 79, 84, 89, 94, 200]\n",
    "\n",
    "labels = [f\"{i}-{i + 4}\" if i < 95 else '95+' for i in range(0, 100, 5)]\n",
    "print(f'length of labels = {len(labels)} and length of bins = {len(bins)}')"
   ]
  },
  {
   "cell_type": "code",
   "execution_count": 37,
   "id": "d22ae3b3",
   "metadata": {},
   "outputs": [],
   "source": [
    "# Apply pd.cut to group the age\n",
    "census['Age Group'] = pd.cut(census['Age'], bins=bins, labels=labels, right=False)"
   ]
  },
  {
   "cell_type": "code",
   "execution_count": 45,
   "id": "f2972f45",
   "metadata": {
    "scrolled": false
   },
   "outputs": [
    {
     "data": {
      "image/png": "[encoded data removed]",
      "text/plain": [
       "<Figure size 1200x800 with 1 Axes>"
      ]
     },
     "metadata": {},
     "output_type": "display_data"
    }
   ],
   "source": [
    "# Create a histogram for Age distribution\n",
    "plt.figure(figsize=(12, 8))\n",
    "sns.histplot(data=census, x='Age', bins=20, kde=True, edgecolor='black')\n",
    "plt.title('Age Distribution of the Population')\n",
    "plt.xlabel('Age')\n",
    "plt.ylabel('Number of Individuals')\n",
    "\n",
    "# Save the Seaborn plot\n",
    "plt.savefig(\"age_distribution.png\")\n",
    "\n",
    "# Show the plot\n",
    "plt.show()\n"
   ]
  },
  {
   "cell_type": "markdown",
   "id": "14586559",
   "metadata": {},
   "source": [
    "- In the context of age distribution, a right-skewed distribution might suggest an older   population with a few extremely elderly individuals.\n"
   ]
  },
  {
   "cell_type": "code",
   "execution_count": 39,
   "id": "ea3384d5",
   "metadata": {},
   "outputs": [
    {
     "data": {
      "text/html": [
       "<div>\n",
       "<style scoped>\n",
       "    .dataframe tbody tr th:only-of-type {\n",
       "        vertical-align: middle;\n",
       "    }\n",
       "\n",
       "    .dataframe tbody tr th {\n",
       "        vertical-align: top;\n",
       "    }\n",
       "\n",
       "    .dataframe thead th {\n",
       "        text-align: right;\n",
       "    }\n",
       "</style>\n",
       "<table border=\"1\" class=\"dataframe\">\n",
       "  <thead>\n",
       "    <tr style=\"text-align: right;\">\n",
       "      <th></th>\n",
       "      <th>House Number</th>\n",
       "      <th>Age</th>\n",
       "    </tr>\n",
       "  </thead>\n",
       "  <tbody>\n",
       "    <tr>\n",
       "      <th>count</th>\n",
       "      <td>8327.000000</td>\n",
       "      <td>8327.000000</td>\n",
       "    </tr>\n",
       "    <tr>\n",
       "      <th>mean</th>\n",
       "      <td>29.340098</td>\n",
       "      <td>35.292542</td>\n",
       "    </tr>\n",
       "    <tr>\n",
       "      <th>std</th>\n",
       "      <td>35.748361</td>\n",
       "      <td>21.376500</td>\n",
       "    </tr>\n",
       "    <tr>\n",
       "      <th>min</th>\n",
       "      <td>1.000000</td>\n",
       "      <td>0.000000</td>\n",
       "    </tr>\n",
       "    <tr>\n",
       "      <th>25%</th>\n",
       "      <td>8.000000</td>\n",
       "      <td>18.000000</td>\n",
       "    </tr>\n",
       "    <tr>\n",
       "      <th>50%</th>\n",
       "      <td>19.000000</td>\n",
       "      <td>35.000000</td>\n",
       "    </tr>\n",
       "    <tr>\n",
       "      <th>75%</th>\n",
       "      <td>35.000000</td>\n",
       "      <td>50.000000</td>\n",
       "    </tr>\n",
       "    <tr>\n",
       "      <th>max</th>\n",
       "      <td>207.000000</td>\n",
       "      <td>106.000000</td>\n",
       "    </tr>\n",
       "  </tbody>\n",
       "</table>\n",
       "</div>"
      ],
      "text/plain": [
       "       House Number          Age\n",
       "count   8327.000000  8327.000000\n",
       "mean      29.340098    35.292542\n",
       "std       35.748361    21.376500\n",
       "min        1.000000     0.000000\n",
       "25%        8.000000    18.000000\n",
       "50%       19.000000    35.000000\n",
       "75%       35.000000    50.000000\n",
       "max      207.000000   106.000000"
      ]
     },
     "execution_count": 39,
     "metadata": {},
     "output_type": "execute_result"
    }
   ],
   "source": [
    "# show data description\n",
    "census.describe()"
   ]
  },
  {
   "cell_type": "markdown",
   "id": "01ecc6fa",
   "metadata": {},
   "source": [
    "The mean (35.29) is greater than the median (35), suggesting a rightward or positive skewness. This indicates that there might be a tail of older individuals, pulling the mean to the right"
   ]
  },
  {
   "cell_type": "code",
   "execution_count": 40,
   "id": "35b0ee45",
   "metadata": {},
   "outputs": [
    {
     "name": "stdout",
     "output_type": "stream",
     "text": [
      "Skewness of Age: 0.3151504961169674\n"
     ]
    }
   ],
   "source": [
    "# Get the skewness of the age\n",
    "skewness_age = census['Age'].skew()\n",
    "print(\"Skewness of Age:\", skewness_age)"
   ]
  },
  {
   "cell_type": "markdown",
   "id": "bc72bdd8",
   "metadata": {},
   "source": [
    " skewness value is positive, it supports the interpretation of a right-skewed distribution"
   ]
  },
  {
   "cell_type": "markdown",
   "id": "b48c2a4e",
   "metadata": {},
   "source": [
    "Overall Age Distribution:\n",
    "\n",
    "- The age distribution appears to be right-skewed, as indicated by the higher mean age (35.29) compared to the median age (35).The presence of a few individuals with ages as high as 106 contributes to this right-skewed appearance.\n",
    "\n",
    "Age Groups:\n",
    "\n",
    "- The age distribution is diverse, with individuals spanning from 0 to 106 years. The 25th percentile (Q1) is 18, indicating that 25% of the individuals are aged 18 or younger. The median age (Q2) is 35, suggesting that 50% of the individuals are aged 35 or younger. The 75th percentile (Q3) is 50, implying that 75% of the individuals are aged 50 or younger.\n",
    "\n",
    "Retired Aged People:\n",
    "\n",
    "- To specifically analyze the distribution of retired aged people, you would need information about their occupations or a specific category indicating retirement.You could create a subset of the data for individuals with occupations related to retirement and analyze their age distribution separately.\n",
    "\n",
    "Future Predictions:\n",
    "\n",
    "- Predicting the future age distribution requires additional data, such as birth rates, mortality rates, and demographic trends.The current analysis provides insights into the current state of the population but doesn't directly predict future changes."
   ]
  },
  {
   "cell_type": "markdown",
   "id": "31680ae5",
   "metadata": {},
   "source": [
    "Answer to the Question:\n",
    "\n",
    "- The age distribution in the current dataset appears to have a right-skewed shape, with a concentration of individuals in younger age groups and a tail extending towards older ages.\n",
    "\n",
    "- It's challenging to make specific predictions about future age distribution without additional demographic data.\n",
    "\n",
    "- Further analysis, particularly regarding occupations and retirement status, would provide more insights into the distribution of retired aged people."
   ]
  },
  {
   "cell_type": "code",
   "execution_count": 41,
   "id": "d1159eea",
   "metadata": {
    "scrolled": true
   },
   "outputs": [
    {
     "data": {
      "image/png": "[encoded data removed]",
      "text/plain": [
       "<Figure size 1200x1000 with 1 Axes>"
      ]
     },
     "metadata": {},
     "output_type": "display_data"
    }
   ],
   "source": [
    "# Count the number of individuals in each age group\n",
    "age_group_counts = census.groupby(['Age Group', 'Gender']).size().unstack(fill_value=0)\n",
    "\n",
    "# Set the color palette to 'viridis'\n",
    "sns.set_palette('viridis')\n",
    "\n",
    "# Plot the stacked bar chart with age groups on the y-axis\n",
    "fig, ax = plt.subplots(figsize=(12, 10))\n",
    "\n",
    "# Plot male population (negative values)\n",
    "sns.barplot(x=-age_group_counts['Male'], y=age_group_counts.index,  edgecolor='w', label='Male')\n",
    "\n",
    "# Plot female population (positive values)\n",
    "sns.barplot(x=age_group_counts['Female'], y=age_group_counts.index,   edgecolor='w', label='Female')\n",
    "\n",
    "# Add a vertical line in the middle\n",
    "plt.axvline(x=0, color='black', linestyle='-', linewidth=1)\n",
    "\n",
    "# Invert the y-axis\n",
    "plt.gca().invert_yaxis()\n",
    "\n",
    "# Add icons for male and female\n",
    "male_icon = plt.imread('man.png')  # Replace with the actual path to your male icon image\n",
    "female_icon = plt.imread('girl.png')  # Replace with the actual path to your female icon image\n",
    "\n",
    "# Define the coordinates for icons\n",
    "male_coords = (-250, 17)\n",
    "female_coords = (250, 17)\n",
    "\n",
    "# Add AnnotationBbox for male icon\n",
    "male_imagebox = OffsetImage(male_icon, zoom=0.15)\n",
    "male_ab = AnnotationBbox(male_imagebox, male_coords, frameon=False, boxcoords=\"data\", pad=0)\n",
    "ax.add_artist(male_ab)\n",
    "\n",
    "# Add AnnotationBbox for female icon\n",
    "female_imagebox = OffsetImage(female_icon, zoom=0.15)\n",
    "female_ab = AnnotationBbox(female_imagebox, female_coords, frameon=False, boxcoords=\"data\", pad=0)\n",
    "ax.add_artist(female_ab)\n",
    "\n",
    "\n",
    "plt.title('Age Distribution by Gender')\n",
    "plt.xlabel('Population (Count)')\n",
    "plt.ylabel('Age Group')\n",
    "\n",
    "# Save the Seaborn plot\n",
    "plt.savefig(\"age_pyramid.png\")\n",
    "\n",
    "plt.show()\n"
   ]
  },
  {
   "cell_type": "markdown",
   "id": "874da89e",
   "metadata": {},
   "source": [
    "#### Analyzing Populations Occupation Status"
   ]
  },
  {
   "cell_type": "code",
   "execution_count": 48,
   "id": "5905c478",
   "metadata": {},
   "outputs": [
    {
     "data": {
      "text/html": [
       "<div>\n",
       "<style scoped>\n",
       "    .dataframe tbody tr th:only-of-type {\n",
       "        vertical-align: middle;\n",
       "    }\n",
       "\n",
       "    .dataframe tbody tr th {\n",
       "        vertical-align: top;\n",
       "    }\n",
       "\n",
       "    .dataframe thead th {\n",
       "        text-align: right;\n",
       "    }\n",
       "</style>\n",
       "<table border=\"1\" class=\"dataframe\">\n",
       "  <thead>\n",
       "    <tr style=\"text-align: right;\">\n",
       "      <th></th>\n",
       "      <th>House Number</th>\n",
       "      <th>Street</th>\n",
       "      <th>First Name</th>\n",
       "      <th>Surname</th>\n",
       "      <th>Age</th>\n",
       "      <th>Relationship to Head of House</th>\n",
       "      <th>Marital Status</th>\n",
       "      <th>Gender</th>\n",
       "      <th>Occupation</th>\n",
       "      <th>Infirmity</th>\n",
       "      <th>Religion</th>\n",
       "      <th>Age Group</th>\n",
       "    </tr>\n",
       "  </thead>\n",
       "  <tbody>\n",
       "    <tr>\n",
       "      <th>0</th>\n",
       "      <td>1</td>\n",
       "      <td>Scott Dale</td>\n",
       "      <td>Maureen</td>\n",
       "      <td>Cox</td>\n",
       "      <td>50</td>\n",
       "      <td>Head</td>\n",
       "      <td>Single</td>\n",
       "      <td>Female</td>\n",
       "      <td>Engineer, building services</td>\n",
       "      <td>Unknown</td>\n",
       "      <td>Catholic</td>\n",
       "      <td>50-54</td>\n",
       "    </tr>\n",
       "    <tr>\n",
       "      <th>1</th>\n",
       "      <td>1</td>\n",
       "      <td>Scott Dale</td>\n",
       "      <td>Rhys</td>\n",
       "      <td>Brown</td>\n",
       "      <td>52</td>\n",
       "      <td>Partner</td>\n",
       "      <td>Single</td>\n",
       "      <td>Male</td>\n",
       "      <td>Engineer, mining</td>\n",
       "      <td>Unknown</td>\n",
       "      <td>Catholic</td>\n",
       "      <td>50-54</td>\n",
       "    </tr>\n",
       "    <tr>\n",
       "      <th>2</th>\n",
       "      <td>2</td>\n",
       "      <td>Scott Dale</td>\n",
       "      <td>Lorraine</td>\n",
       "      <td>Allen</td>\n",
       "      <td>69</td>\n",
       "      <td>Head</td>\n",
       "      <td>Married</td>\n",
       "      <td>Female</td>\n",
       "      <td>Unemployed</td>\n",
       "      <td>Unknown</td>\n",
       "      <td>Methodist</td>\n",
       "      <td>70-74</td>\n",
       "    </tr>\n",
       "    <tr>\n",
       "      <th>3</th>\n",
       "      <td>2</td>\n",
       "      <td>Scott Dale</td>\n",
       "      <td>Lewis</td>\n",
       "      <td>Allen</td>\n",
       "      <td>72</td>\n",
       "      <td>Husband</td>\n",
       "      <td>Married</td>\n",
       "      <td>Male</td>\n",
       "      <td>Retired Associate Professor</td>\n",
       "      <td>Unknown</td>\n",
       "      <td>Methodist</td>\n",
       "      <td>70-74</td>\n",
       "    </tr>\n",
       "    <tr>\n",
       "      <th>4</th>\n",
       "      <td>3</td>\n",
       "      <td>Scott Dale</td>\n",
       "      <td>Molly</td>\n",
       "      <td>Patel</td>\n",
       "      <td>36</td>\n",
       "      <td>Head</td>\n",
       "      <td>Married</td>\n",
       "      <td>Female</td>\n",
       "      <td>Engineer, land</td>\n",
       "      <td>Unknown</td>\n",
       "      <td>Unknown</td>\n",
       "      <td>35-39</td>\n",
       "    </tr>\n",
       "  </tbody>\n",
       "</table>\n",
       "</div>"
      ],
      "text/plain": [
       "   House Number      Street First Name Surname  Age  \\\n",
       "0             1  Scott Dale    Maureen     Cox   50   \n",
       "1             1  Scott Dale       Rhys   Brown   52   \n",
       "2             2  Scott Dale   Lorraine   Allen   69   \n",
       "3             2  Scott Dale      Lewis   Allen   72   \n",
       "4             3  Scott Dale      Molly   Patel   36   \n",
       "\n",
       "  Relationship to Head of House Marital Status  Gender  \\\n",
       "0                          Head         Single  Female   \n",
       "1                       Partner         Single    Male   \n",
       "2                          Head        Married  Female   \n",
       "3                       Husband        Married    Male   \n",
       "4                          Head        Married  Female   \n",
       "\n",
       "                    Occupation Infirmity   Religion Age Group  \n",
       "0  Engineer, building services   Unknown   Catholic     50-54  \n",
       "1             Engineer, mining   Unknown   Catholic     50-54  \n",
       "2                   Unemployed   Unknown  Methodist     70-74  \n",
       "3  Retired Associate Professor   Unknown  Methodist     70-74  \n",
       "4               Engineer, land   Unknown    Unknown     35-39  "
      ]
     },
     "execution_count": 48,
     "metadata": {},
     "output_type": "execute_result"
    }
   ],
   "source": [
    "census.head()"
   ]
  },
  {
   "cell_type": "markdown",
   "id": "5214400a",
   "metadata": {},
   "source": [
    "Analysing the popuplation occupational status will start with separating each individual into their repective occupations and employment status"
   ]
  },
  {
   "cell_type": "code",
   "execution_count": 64,
   "id": "1e43b387",
   "metadata": {},
   "outputs": [],
   "source": [
    "# Create an Employment Status column\n",
    "\n",
    "for index, row in census.iterrows():\n",
    "    unemployed_pattern = re.compile(r'^Unemployed$', flags=re.IGNORECASE)\n",
    "    child_pattern = re.compile(r'^Child$', flags=re.IGNORECASE)\n",
    "    university_student_pattern = re.compile(r'^University Student$', flags=re.IGNORECASE)\n",
    "    student_pattern = re.compile(r'^Student$', flags=re.IGNORECASE)\n",
    "#     retired_age_pattern = re.compile(r'Retired', flags=re.IGNORECASE)\n",
    "    \n",
    "    if row['Age'] >= 66:\n",
    "        census.at[index, 'Employment Status'] = 'Retired'\n",
    "    elif unemployed_pattern.search(row['Occupation']) is not None and row['Age'] < 66:\n",
    "        census.at[index, 'Employment Status'] = 'Unemployed'\n",
    "    elif child_pattern.search(row['Occupation']):\n",
    "        census.at[index, 'Employment Status'] = 'Child'\n",
    "    elif student_pattern.search(row['Occupation']):\n",
    "        census.at[index, 'Employment Status'] = 'Student (Child)'\n",
    "    elif university_student_pattern.search(row['Occupation']):\n",
    "        census.at[index, 'Employment Status'] = 'University Student'\n",
    "    else:\n",
    "        census.at[index, 'Employment Status'] = 'Employed'"
   ]
  },
  {
   "cell_type": "code",
   "execution_count": 65,
   "id": "e6084e12",
   "metadata": {
    "scrolled": true
   },
   "outputs": [
    {
     "data": {
      "text/plain": [
       "array(['Employed', 'Retired', 'Student (Child)', 'University Student',\n",
       "       'Child', 'Unemployed'], dtype=object)"
      ]
     },
     "execution_count": 65,
     "metadata": {},
     "output_type": "execute_result"
    }
   ],
   "source": [
    "# Display unique values\n",
    "census['Employment Status'].unique()"
   ]
  },
  {
   "cell_type": "code",
   "execution_count": 66,
   "id": "439e391c",
   "metadata": {
    "scrolled": true
   },
   "outputs": [
    {
     "data": {
      "text/html": [
       "<div>\n",
       "<style scoped>\n",
       "    .dataframe tbody tr th:only-of-type {\n",
       "        vertical-align: middle;\n",
       "    }\n",
       "\n",
       "    .dataframe tbody tr th {\n",
       "        vertical-align: top;\n",
       "    }\n",
       "\n",
       "    .dataframe thead th {\n",
       "        text-align: right;\n",
       "    }\n",
       "</style>\n",
       "<table border=\"1\" class=\"dataframe\">\n",
       "  <thead>\n",
       "    <tr style=\"text-align: right;\">\n",
       "      <th></th>\n",
       "      <th>House Number</th>\n",
       "      <th>Street</th>\n",
       "      <th>First Name</th>\n",
       "      <th>Surname</th>\n",
       "      <th>Age</th>\n",
       "      <th>Relationship to Head of House</th>\n",
       "      <th>Marital Status</th>\n",
       "      <th>Gender</th>\n",
       "      <th>Occupation</th>\n",
       "      <th>Infirmity</th>\n",
       "      <th>Religion</th>\n",
       "      <th>Age Group</th>\n",
       "      <th>Employment Status</th>\n",
       "    </tr>\n",
       "  </thead>\n",
       "  <tbody>\n",
       "    <tr>\n",
       "      <th>7</th>\n",
       "      <td>4</td>\n",
       "      <td>Scott Dale</td>\n",
       "      <td>Jamie</td>\n",
       "      <td>Akhtar</td>\n",
       "      <td>7</td>\n",
       "      <td>Son</td>\n",
       "      <td>Child</td>\n",
       "      <td>Male</td>\n",
       "      <td>Student</td>\n",
       "      <td>Unknown</td>\n",
       "      <td>Unknown</td>\n",
       "      <td>5-9</td>\n",
       "      <td>Student (Child)</td>\n",
       "    </tr>\n",
       "    <tr>\n",
       "      <th>15</th>\n",
       "      <td>7</td>\n",
       "      <td>Scott Dale</td>\n",
       "      <td>Alex</td>\n",
       "      <td>O'Neill-Walker-Iqbal</td>\n",
       "      <td>17</td>\n",
       "      <td>Son</td>\n",
       "      <td>Child</td>\n",
       "      <td>Male</td>\n",
       "      <td>Student</td>\n",
       "      <td>Unknown</td>\n",
       "      <td>Unknown</td>\n",
       "      <td>15-19</td>\n",
       "      <td>Student (Child)</td>\n",
       "    </tr>\n",
       "    <tr>\n",
       "      <th>22</th>\n",
       "      <td>9</td>\n",
       "      <td>Scott Dale</td>\n",
       "      <td>Rhys</td>\n",
       "      <td>Smith</td>\n",
       "      <td>7</td>\n",
       "      <td>Son</td>\n",
       "      <td>Child</td>\n",
       "      <td>Male</td>\n",
       "      <td>Student</td>\n",
       "      <td>Unknown</td>\n",
       "      <td>Unknown</td>\n",
       "      <td>5-9</td>\n",
       "      <td>Student (Child)</td>\n",
       "    </tr>\n",
       "    <tr>\n",
       "      <th>30</th>\n",
       "      <td>12</td>\n",
       "      <td>Scott Dale</td>\n",
       "      <td>Joe</td>\n",
       "      <td>Taylor</td>\n",
       "      <td>5</td>\n",
       "      <td>Son</td>\n",
       "      <td>Child</td>\n",
       "      <td>Male</td>\n",
       "      <td>Student</td>\n",
       "      <td>Unknown</td>\n",
       "      <td>Unknown</td>\n",
       "      <td>5-9</td>\n",
       "      <td>Student (Child)</td>\n",
       "    </tr>\n",
       "    <tr>\n",
       "      <th>37</th>\n",
       "      <td>15</td>\n",
       "      <td>Scott Dale</td>\n",
       "      <td>Samuel</td>\n",
       "      <td>Moore</td>\n",
       "      <td>14</td>\n",
       "      <td>Grandson</td>\n",
       "      <td>Child</td>\n",
       "      <td>Male</td>\n",
       "      <td>Student</td>\n",
       "      <td>Unknown</td>\n",
       "      <td>Unknown</td>\n",
       "      <td>15-19</td>\n",
       "      <td>Student (Child)</td>\n",
       "    </tr>\n",
       "    <tr>\n",
       "      <th>...</th>\n",
       "      <td>...</td>\n",
       "      <td>...</td>\n",
       "      <td>...</td>\n",
       "      <td>...</td>\n",
       "      <td>...</td>\n",
       "      <td>...</td>\n",
       "      <td>...</td>\n",
       "      <td>...</td>\n",
       "      <td>...</td>\n",
       "      <td>...</td>\n",
       "      <td>...</td>\n",
       "      <td>...</td>\n",
       "      <td>...</td>\n",
       "    </tr>\n",
       "    <tr>\n",
       "      <th>8296</th>\n",
       "      <td>1</td>\n",
       "      <td>Faith Bastion</td>\n",
       "      <td>Terence</td>\n",
       "      <td>Lawson</td>\n",
       "      <td>5</td>\n",
       "      <td>Son</td>\n",
       "      <td>Child</td>\n",
       "      <td>Male</td>\n",
       "      <td>Student</td>\n",
       "      <td>Unknown</td>\n",
       "      <td>Unknown</td>\n",
       "      <td>5-9</td>\n",
       "      <td>Student (Child)</td>\n",
       "    </tr>\n",
       "    <tr>\n",
       "      <th>8307</th>\n",
       "      <td>1</td>\n",
       "      <td>Jones Barracks</td>\n",
       "      <td>Michelle</td>\n",
       "      <td>Stevenson</td>\n",
       "      <td>16</td>\n",
       "      <td>Daughter</td>\n",
       "      <td>Child</td>\n",
       "      <td>Female</td>\n",
       "      <td>Student</td>\n",
       "      <td>Unknown</td>\n",
       "      <td>Unknown</td>\n",
       "      <td>15-19</td>\n",
       "      <td>Student (Child)</td>\n",
       "    </tr>\n",
       "    <tr>\n",
       "      <th>8308</th>\n",
       "      <td>1</td>\n",
       "      <td>Jones Barracks</td>\n",
       "      <td>Guy</td>\n",
       "      <td>Stevenson</td>\n",
       "      <td>12</td>\n",
       "      <td>Son</td>\n",
       "      <td>Child</td>\n",
       "      <td>Male</td>\n",
       "      <td>Student</td>\n",
       "      <td>Unknown</td>\n",
       "      <td>Unknown</td>\n",
       "      <td>10-14</td>\n",
       "      <td>Student (Child)</td>\n",
       "    </tr>\n",
       "    <tr>\n",
       "      <th>8309</th>\n",
       "      <td>1</td>\n",
       "      <td>Jones Barracks</td>\n",
       "      <td>Vanessa</td>\n",
       "      <td>Stevenson</td>\n",
       "      <td>10</td>\n",
       "      <td>Daughter</td>\n",
       "      <td>Child</td>\n",
       "      <td>Female</td>\n",
       "      <td>Student</td>\n",
       "      <td>Unknown</td>\n",
       "      <td>Unknown</td>\n",
       "      <td>10-14</td>\n",
       "      <td>Student (Child)</td>\n",
       "    </tr>\n",
       "    <tr>\n",
       "      <th>8310</th>\n",
       "      <td>1</td>\n",
       "      <td>Jones Barracks</td>\n",
       "      <td>Lydia</td>\n",
       "      <td>Stevenson</td>\n",
       "      <td>7</td>\n",
       "      <td>Daughter</td>\n",
       "      <td>Child</td>\n",
       "      <td>Female</td>\n",
       "      <td>Student</td>\n",
       "      <td>Unknown</td>\n",
       "      <td>Unknown</td>\n",
       "      <td>5-9</td>\n",
       "      <td>Student (Child)</td>\n",
       "    </tr>\n",
       "  </tbody>\n",
       "</table>\n",
       "<p>1669 rows × 13 columns</p>\n",
       "</div>"
      ],
      "text/plain": [
       "      House Number          Street First Name               Surname  Age  \\\n",
       "7                4      Scott Dale      Jamie                Akhtar    7   \n",
       "15               7      Scott Dale       Alex  O'Neill-Walker-Iqbal   17   \n",
       "22               9      Scott Dale       Rhys                 Smith    7   \n",
       "30              12      Scott Dale        Joe                Taylor    5   \n",
       "37              15      Scott Dale     Samuel                 Moore   14   \n",
       "...            ...             ...        ...                   ...  ...   \n",
       "8296             1   Faith Bastion    Terence                Lawson    5   \n",
       "8307             1  Jones Barracks   Michelle             Stevenson   16   \n",
       "8308             1  Jones Barracks        Guy             Stevenson   12   \n",
       "8309             1  Jones Barracks    Vanessa             Stevenson   10   \n",
       "8310             1  Jones Barracks      Lydia             Stevenson    7   \n",
       "\n",
       "     Relationship to Head of House Marital Status  Gender Occupation  \\\n",
       "7                              Son          Child    Male    Student   \n",
       "15                             Son          Child    Male    Student   \n",
       "22                             Son          Child    Male    Student   \n",
       "30                             Son          Child    Male    Student   \n",
       "37                        Grandson          Child    Male    Student   \n",
       "...                            ...            ...     ...        ...   \n",
       "8296                           Son          Child    Male    Student   \n",
       "8307                      Daughter          Child  Female    Student   \n",
       "8308                           Son          Child    Male    Student   \n",
       "8309                      Daughter          Child  Female    Student   \n",
       "8310                      Daughter          Child  Female    Student   \n",
       "\n",
       "     Infirmity Religion Age Group Employment Status  \n",
       "7      Unknown  Unknown       5-9   Student (Child)  \n",
       "15     Unknown  Unknown     15-19   Student (Child)  \n",
       "22     Unknown  Unknown       5-9   Student (Child)  \n",
       "30     Unknown  Unknown       5-9   Student (Child)  \n",
       "37     Unknown  Unknown     15-19   Student (Child)  \n",
       "...        ...      ...       ...               ...  \n",
       "8296   Unknown  Unknown       5-9   Student (Child)  \n",
       "8307   Unknown  Unknown     15-19   Student (Child)  \n",
       "8308   Unknown  Unknown     10-14   Student (Child)  \n",
       "8309   Unknown  Unknown     10-14   Student (Child)  \n",
       "8310   Unknown  Unknown       5-9   Student (Child)  \n",
       "\n",
       "[1669 rows x 13 columns]"
      ]
     },
     "execution_count": 66,
     "metadata": {},
     "output_type": "execute_result"
    }
   ],
   "source": [
    "# Display Student (Child) data\n",
    "census[census['Employment Status'] == 'Student (Child)']"
   ]
  },
  {
   "cell_type": "code",
   "execution_count": 72,
   "id": "8c7f83b9",
   "metadata": {},
   "outputs": [
    {
     "data": {
      "text/html": [
       "<div>\n",
       "<style scoped>\n",
       "    .dataframe tbody tr th:only-of-type {\n",
       "        vertical-align: middle;\n",
       "    }\n",
       "\n",
       "    .dataframe tbody tr th {\n",
       "        vertical-align: top;\n",
       "    }\n",
       "\n",
       "    .dataframe thead th {\n",
       "        text-align: right;\n",
       "    }\n",
       "</style>\n",
       "<table border=\"1\" class=\"dataframe\">\n",
       "  <thead>\n",
       "    <tr style=\"text-align: right;\">\n",
       "      <th></th>\n",
       "      <th>Value</th>\n",
       "      <th>Count</th>\n",
       "      <th>Frequency (%)</th>\n",
       "    </tr>\n",
       "  </thead>\n",
       "  <tbody>\n",
       "    <tr>\n",
       "      <th>0</th>\n",
       "      <td>Employed</td>\n",
       "      <td>4341</td>\n",
       "      <td>52.1%</td>\n",
       "    </tr>\n",
       "    <tr>\n",
       "      <th>1</th>\n",
       "      <td>Student (Child)</td>\n",
       "      <td>1669</td>\n",
       "      <td>20.0%</td>\n",
       "    </tr>\n",
       "    <tr>\n",
       "      <th>2</th>\n",
       "      <td>Retired</td>\n",
       "      <td>783</td>\n",
       "      <td>9.4%</td>\n",
       "    </tr>\n",
       "    <tr>\n",
       "      <th>3</th>\n",
       "      <td>University Student</td>\n",
       "      <td>558</td>\n",
       "      <td>6.7%</td>\n",
       "    </tr>\n",
       "    <tr>\n",
       "      <th>4</th>\n",
       "      <td>Child</td>\n",
       "      <td>500</td>\n",
       "      <td>6.0%</td>\n",
       "    </tr>\n",
       "    <tr>\n",
       "      <th>5</th>\n",
       "      <td>Unemployed</td>\n",
       "      <td>476</td>\n",
       "      <td>5.7%</td>\n",
       "    </tr>\n",
       "  </tbody>\n",
       "</table>\n",
       "</div>"
      ],
      "text/plain": [
       "                Value  Count Frequency (%)\n",
       "0            Employed   4341         52.1%\n",
       "1     Student (Child)   1669         20.0%\n",
       "2             Retired    783          9.4%\n",
       "3  University Student    558          6.7%\n",
       "4               Child    500          6.0%\n",
       "5          Unemployed    476          5.7%"
      ]
     },
     "execution_count": 72,
     "metadata": {},
     "output_type": "execute_result"
    }
   ],
   "source": [
    "# Get the employment status\n",
    "employment_status = census['Employment Status']\n",
    "\n",
    "employment_status_count = employment_status.value_counts()\n",
    "\n",
    "# Calculate employment percentage frequency\n",
    "employment_status_frequency = round((employment_status_count / len(employment_status)) * 100, 1).astype('str')\n",
    "\n",
    "# Create dataframe to display the result\n",
    "employment_status_df = pd.DataFrame({\n",
    "    'Value': employment_status_count.index,\n",
    "    'Count': employment_status_count.values,\n",
    "    'Frequency (%)': employment_status_frequency.values + \"%\"\n",
    "})\n",
    "\n",
    "# Display result\n",
    "employment_status_df"
   ]
  },
  {
   "cell_type": "code",
   "execution_count": 80,
   "id": "81af44eb",
   "metadata": {
    "scrolled": true
   },
   "outputs": [
    {
     "data": {
      "application/vnd.jupyter.widget-view+json": {
       "model_id": "b469dc9f580e4724a422deae675c84b0",
       "version_major": 2,
       "version_minor": 0
      },
      "text/plain": [
       "Summarize dataset:   0%|          | 0/5 [00:00<?, ?it/s]"
      ]
     },
     "metadata": {},
     "output_type": "display_data"
    },
    {
     "data": {
      "application/vnd.jupyter.widget-view+json": {
       "model_id": "7a245e4f80b2435b9f95ca91a7cab5c9",
       "version_major": 2,
       "version_minor": 0
      },
      "text/plain": [
       "Generate report structure:   0%|          | 0/1 [00:00<?, ?it/s]"
      ]
     },
     "metadata": {},
     "output_type": "display_data"
    },
    {
     "data": {
      "application/vnd.jupyter.widget-view+json": {
       "model_id": "a513ba30d002486996427441190141fb",
       "version_major": 2,
       "version_minor": 0
      },
      "text/plain": [
       "Render HTML:   0%|          | 0/1 [00:00<?, ?it/s]"
      ]
     },
     "metadata": {},
     "output_type": "display_data"
    },
    {
     "data": {
      "application/vnd.jupyter.widget-view+json": {
       "model_id": "c6b2ced12508489ca1d7eca38926802a",
       "version_major": 2,
       "version_minor": 0
      },
      "text/plain": [
       "Export report to file:   0%|          | 0/1 [00:00<?, ?it/s]"
      ]
     },
     "metadata": {},
     "output_type": "display_data"
    }
   ],
   "source": [
    "# Generate report\n",
    "employment_census_data = ProfileReport(employment_status_df, title='Employment Census Data Report', explorative= True)\n",
    "\n",
    "# Save the profile report to HTML file\n",
    "employment_census_data.to_file('employment_census_data_report.html')"
   ]
  },
  {
   "cell_type": "code",
   "execution_count": 84,
   "id": "e9f8fec2",
   "metadata": {},
   "outputs": [
    {
     "data": {
      "image/png": "[encoded data removed]",
      "text/plain": [
       "<Figure size 1200x800 with 1 Axes>"
      ]
     },
     "metadata": {},
     "output_type": "display_data"
    }
   ],
   "source": [
    "# Visualize Unemployment Trends\n",
    "import seaborn as sns\n",
    "import matplotlib.pyplot as plt\n",
    "\n",
    "plt.figure(figsize=(12, 8))\n",
    "sns.countplot(data=census, x='Employment Status', palette='viridis')\n",
    "plt.title('Distribution of Employment Status')\n",
    "plt.xlabel('Employment Status')\n",
    "plt.ylabel('Number of Individuals')\n",
    "\n",
    "# Save the Seaborn plot\n",
    "plt.savefig(\"employment_status_dist.png\")\n",
    "\n",
    "plt.show()\n"
   ]
  },
  {
   "cell_type": "code",
   "execution_count": 88,
   "id": "9d55a49a",
   "metadata": {},
   "outputs": [
    {
     "data": {
      "text/html": [
       "<div>\n",
       "<style scoped>\n",
       "    .dataframe tbody tr th:only-of-type {\n",
       "        vertical-align: middle;\n",
       "    }\n",
       "\n",
       "    .dataframe tbody tr th {\n",
       "        vertical-align: top;\n",
       "    }\n",
       "\n",
       "    .dataframe thead th {\n",
       "        text-align: right;\n",
       "    }\n",
       "</style>\n",
       "<table border=\"1\" class=\"dataframe\">\n",
       "  <thead>\n",
       "    <tr style=\"text-align: right;\">\n",
       "      <th></th>\n",
       "      <th>Age Group</th>\n",
       "      <th>Count</th>\n",
       "    </tr>\n",
       "  </thead>\n",
       "  <tbody>\n",
       "    <tr>\n",
       "      <th>0</th>\n",
       "      <td>20-24</td>\n",
       "      <td>10</td>\n",
       "    </tr>\n",
       "    <tr>\n",
       "      <th>1</th>\n",
       "      <td>25-29</td>\n",
       "      <td>49</td>\n",
       "    </tr>\n",
       "    <tr>\n",
       "      <th>2</th>\n",
       "      <td>30-34</td>\n",
       "      <td>60</td>\n",
       "    </tr>\n",
       "    <tr>\n",
       "      <th>3</th>\n",
       "      <td>35-39</td>\n",
       "      <td>70</td>\n",
       "    </tr>\n",
       "    <tr>\n",
       "      <th>4</th>\n",
       "      <td>40-44</td>\n",
       "      <td>96</td>\n",
       "    </tr>\n",
       "    <tr>\n",
       "      <th>5</th>\n",
       "      <td>45-49</td>\n",
       "      <td>54</td>\n",
       "    </tr>\n",
       "    <tr>\n",
       "      <th>6</th>\n",
       "      <td>50-54</td>\n",
       "      <td>60</td>\n",
       "    </tr>\n",
       "    <tr>\n",
       "      <th>7</th>\n",
       "      <td>55-59</td>\n",
       "      <td>33</td>\n",
       "    </tr>\n",
       "    <tr>\n",
       "      <th>8</th>\n",
       "      <td>60-64</td>\n",
       "      <td>34</td>\n",
       "    </tr>\n",
       "    <tr>\n",
       "      <th>9</th>\n",
       "      <td>65-69</td>\n",
       "      <td>10</td>\n",
       "    </tr>\n",
       "  </tbody>\n",
       "</table>\n",
       "</div>"
      ],
      "text/plain": [
       "  Age Group  Count\n",
       "0     20-24     10\n",
       "1     25-29     49\n",
       "2     30-34     60\n",
       "3     35-39     70\n",
       "4     40-44     96\n",
       "5     45-49     54\n",
       "6     50-54     60\n",
       "7     55-59     33\n",
       "8     60-64     34\n",
       "9     65-69     10"
      ]
     },
     "execution_count": 88,
     "metadata": {},
     "output_type": "execute_result"
    }
   ],
   "source": [
    "# Unemployed Population by Age Group\n",
    "\n",
    "\n",
    "unemployment_df = census[census['Employment Status'] == 'Unemployed']\n",
    "unemployment_df['Age Group'] = unemployment_df['Age Group'].astype('str')\n",
    "unemployment_age = unemployment_df.groupby(['Age Group'])['Employment Status'].count()\n",
    "unemployment_age  = unemployment_age.reset_index(name='Count')\n",
    "unemployment_age "
   ]
  },
  {
   "cell_type": "code",
   "execution_count": 87,
   "id": "2e580b0e",
   "metadata": {},
   "outputs": [
    {
     "data": {
      "image/png": "[encoded data removed]",
      "text/plain": [
       "<Figure size 1000x600 with 1 Axes>"
      ]
     },
     "metadata": {},
     "output_type": "display_data"
    }
   ],
   "source": [
    "# Unemployed Population by Age Group Graph\n",
    "plt.figure(figsize=(10, 6))\n",
    "\n",
    "sns.barplot(x='Age Group', y='Count', data=unemployment_age)\n",
    "\n",
    "plt.title('Unemployed Population by Age Group')\n",
    "plt.xlabel('Unemployed Population')\n",
    "plt.ylabel('Frequency')\n",
    "plt.savefig('unemployed_population_by_age_group.png')\n",
    "plt.show()\n"
   ]
  },
  {
   "cell_type": "markdown",
   "id": "484b09d3",
   "metadata": {},
   "source": [
    "The age group with the highest unemployment rate is ages between 40-44 therefore between the ages of 40-44 people are more likely to be unemployed expecially the female gender."
   ]
  },
  {
   "cell_type": "code",
   "execution_count": 90,
   "id": "727ad97b",
   "metadata": {},
   "outputs": [
    {
     "name": "stdout",
     "output_type": "stream",
     "text": [
      "The average unemployment age is 42\n"
     ]
    }
   ],
   "source": [
    "# Create a dataframe for unemployed status\n",
    "unemployed_population = census[census['Employment Status'] == 'Unemployed']\n",
    "\n",
    "# Average age of unemployed population\n",
    "unemployement_average_age = round(unemployed_population['Age'].mean())\n",
    "print(f'The average unemployment age is {unemployement_average_age}')"
   ]
  },
  {
   "cell_type": "code",
   "execution_count": 92,
   "id": "1262fa44",
   "metadata": {},
   "outputs": [
    {
     "data": {
      "text/html": [
       "<div>\n",
       "<style scoped>\n",
       "    .dataframe tbody tr th:only-of-type {\n",
       "        vertical-align: middle;\n",
       "    }\n",
       "\n",
       "    .dataframe tbody tr th {\n",
       "        vertical-align: top;\n",
       "    }\n",
       "\n",
       "    .dataframe thead th {\n",
       "        text-align: right;\n",
       "    }\n",
       "</style>\n",
       "<table border=\"1\" class=\"dataframe\">\n",
       "  <thead>\n",
       "    <tr style=\"text-align: right;\">\n",
       "      <th></th>\n",
       "      <th>Gender</th>\n",
       "      <th>Employment Status</th>\n",
       "    </tr>\n",
       "  </thead>\n",
       "  <tbody>\n",
       "    <tr>\n",
       "      <th>0</th>\n",
       "      <td>Female</td>\n",
       "      <td>295</td>\n",
       "    </tr>\n",
       "    <tr>\n",
       "      <th>1</th>\n",
       "      <td>Male</td>\n",
       "      <td>181</td>\n",
       "    </tr>\n",
       "  </tbody>\n",
       "</table>\n",
       "</div>"
      ],
      "text/plain": [
       "   Gender  Employment Status\n",
       "0  Female                295\n",
       "1    Male                181"
      ]
     },
     "execution_count": 92,
     "metadata": {},
     "output_type": "execute_result"
    }
   ],
   "source": [
    "# Unemployment by gender\n",
    "unemployment_by_gender = unemployed_population.groupby('Gender').count()['Employment Status']\n",
    "unemployment_by_gender = unemployment_by_gender.reset_index()\n",
    "unemployment_by_gender"
   ]
  },
  {
   "cell_type": "code",
   "execution_count": 97,
   "id": "a24ef8d6",
   "metadata": {},
   "outputs": [
    {
     "data": {
      "image/png": "[encoded data removed]",
      "text/plain": [
       "<Figure size 640x480 with 1 Axes>"
      ]
     },
     "metadata": {},
     "output_type": "display_data"
    }
   ],
   "source": [
    "# Unemployment by gender graph\n",
    "sns.barplot(x=\"Gender\", y=\"Employment Status\", data=unemployment_by_gender)\n",
    "plt.title('Unemployed Population by Gender')\n",
    "# Save the Seaborn plot\n",
    "plt.savefig(\"unemployment_by_gender.png\")\n",
    "plt.show()"
   ]
  },
  {
   "cell_type": "markdown",
   "id": "3d2d59d5",
   "metadata": {},
   "source": [
    "Their is significantly more unemployed females than males. Maybe the government should also consider programs tailored to make women more employable\n"
   ]
  },
  {
   "cell_type": "markdown",
   "id": "4d62a746",
   "metadata": {},
   "source": [
    "#### Explore the Proportion of Retired Aged People"
   ]
  },
  {
   "cell_type": "code",
   "execution_count": 112,
   "id": "b5b0c88b",
   "metadata": {},
   "outputs": [
    {
     "name": "stdout",
     "output_type": "stream",
     "text": [
      "Proportion of Retired Aged People: 0.09403146391257355\n"
     ]
    },
    {
     "data": {
      "image/png": "[encoded data removed]",
      "text/plain": [
       "<Figure size 800x600 with 1 Axes>"
      ]
     },
     "metadata": {},
     "output_type": "display_data"
    }
   ],
   "source": [
    "import pandas as pd\n",
    "import matplotlib.pyplot as plt\n",
    "import seaborn as sns\n",
    "\n",
    "\n",
    "# Calculate the proportion of retired aged people\n",
    "retired_count = census[census['Employment Status'] == 'Retired'].shape[0]\n",
    "total_count = census.shape[0]\n",
    "proportion_retired = retired_count / total_count\n",
    "\n",
    "# Display the proportion\n",
    "print(\"Proportion of Retired Aged People:\", proportion_retired)\n",
    "\n",
    "# Visualize the proportion with a bar plot\n",
    "plt.figure(figsize=(8, 6))\n",
    "sns.barplot(x=['Retired', 'Non-Retired'], y=[proportion_retired, 1 - proportion_retired], palette='viridis')\n",
    "plt.title('Proportion of Retired Aged People')\n",
    "plt.xlabel('Employment Status')\n",
    "plt.ylabel('Proportion')\n",
    "\n",
    "plt.savefig(\"retired_age.png\")\n",
    "\n",
    "plt.show()\n"
   ]
  },
  {
   "cell_type": "markdown",
   "id": "8571901c",
   "metadata": {},
   "source": [
    "This means that around 9.4% of the individuals in the census data are \"Retired."
   ]
  },
  {
   "cell_type": "markdown",
   "id": "fba94e70",
   "metadata": {},
   "source": [
    "Examine religious affiliations. Are any religions growing, or shrinking? Are there any newer \n",
    "religions that are increasing in numbers?\n"
   ]
  },
  {
   "cell_type": "code",
   "execution_count": 117,
   "id": "850b7ef6",
   "metadata": {},
   "outputs": [
    {
     "data": {
      "text/html": [
       "<div>\n",
       "<style scoped>\n",
       "    .dataframe tbody tr th:only-of-type {\n",
       "        vertical-align: middle;\n",
       "    }\n",
       "\n",
       "    .dataframe tbody tr th {\n",
       "        vertical-align: top;\n",
       "    }\n",
       "\n",
       "    .dataframe thead th {\n",
       "        text-align: right;\n",
       "    }\n",
       "</style>\n",
       "<table border=\"1\" class=\"dataframe\">\n",
       "  <thead>\n",
       "    <tr style=\"text-align: right;\">\n",
       "      <th></th>\n",
       "      <th>Value</th>\n",
       "      <th>Count</th>\n",
       "      <th>Frequency (%)</th>\n",
       "    </tr>\n",
       "  </thead>\n",
       "  <tbody>\n",
       "    <tr>\n",
       "      <th>0</th>\n",
       "      <td>Unknown</td>\n",
       "      <td>4908</td>\n",
       "      <td>58.9%</td>\n",
       "    </tr>\n",
       "    <tr>\n",
       "      <th>1</th>\n",
       "      <td>Christian</td>\n",
       "      <td>1780</td>\n",
       "      <td>21.4%</td>\n",
       "    </tr>\n",
       "    <tr>\n",
       "      <th>2</th>\n",
       "      <td>Catholic</td>\n",
       "      <td>881</td>\n",
       "      <td>10.6%</td>\n",
       "    </tr>\n",
       "    <tr>\n",
       "      <th>3</th>\n",
       "      <td>Methodist</td>\n",
       "      <td>547</td>\n",
       "      <td>6.6%</td>\n",
       "    </tr>\n",
       "    <tr>\n",
       "      <th>4</th>\n",
       "      <td>Muslim</td>\n",
       "      <td>115</td>\n",
       "      <td>1.4%</td>\n",
       "    </tr>\n",
       "    <tr>\n",
       "      <th>5</th>\n",
       "      <td>Sikh</td>\n",
       "      <td>55</td>\n",
       "      <td>0.7%</td>\n",
       "    </tr>\n",
       "    <tr>\n",
       "      <th>6</th>\n",
       "      <td>Jewish</td>\n",
       "      <td>38</td>\n",
       "      <td>0.5%</td>\n",
       "    </tr>\n",
       "    <tr>\n",
       "      <th>7</th>\n",
       "      <td>Quaker</td>\n",
       "      <td>2</td>\n",
       "      <td>0.0%</td>\n",
       "    </tr>\n",
       "    <tr>\n",
       "      <th>8</th>\n",
       "      <td>Buddhist</td>\n",
       "      <td>1</td>\n",
       "      <td>0.0%</td>\n",
       "    </tr>\n",
       "  </tbody>\n",
       "</table>\n",
       "</div>"
      ],
      "text/plain": [
       "       Value  Count Frequency (%)\n",
       "0    Unknown   4908         58.9%\n",
       "1  Christian   1780         21.4%\n",
       "2   Catholic    881         10.6%\n",
       "3  Methodist    547          6.6%\n",
       "4     Muslim    115          1.4%\n",
       "5       Sikh     55          0.7%\n",
       "6     Jewish     38          0.5%\n",
       "7     Quaker      2          0.0%\n",
       "8   Buddhist      1          0.0%"
      ]
     },
     "execution_count": 117,
     "metadata": {},
     "output_type": "execute_result"
    }
   ],
   "source": [
    "religious_status = census['Religion']\n",
    "\n",
    "religious_status_count = religious_status.value_counts()\n",
    "\n",
    "# Calculate employment percentage frequency\n",
    "religious_status_frequency = round((religious_status_count / len(religious_status)) * 100, 1).astype('str')\n",
    "\n",
    "# Create dataframe to display the result\n",
    "religious_status_df = pd.DataFrame({\n",
    "    'Value': religious_status_count.index,\n",
    "    'Count': religious_status_count.values,\n",
    "    'Frequency (%)': religious_status_frequency.values + \"%\"\n",
    "})\n",
    "\n",
    "# Display result\n",
    "religious_status_df"
   ]
  },
  {
   "cell_type": "code",
   "execution_count": 119,
   "id": "b3322e2a",
   "metadata": {},
   "outputs": [
    {
     "data": {
      "application/vnd.jupyter.widget-view+json": {
       "model_id": "34d0fe9205df4141833790e84955c51c",
       "version_major": 2,
       "version_minor": 0
      },
      "text/plain": [
       "Summarize dataset:   0%|          | 0/5 [00:00<?, ?it/s]"
      ]
     },
     "metadata": {},
     "output_type": "display_data"
    },
    {
     "data": {
      "application/vnd.jupyter.widget-view+json": {
       "model_id": "c414bf5e10b9473ea990902fb30c87f5",
       "version_major": 2,
       "version_minor": 0
      },
      "text/plain": [
       "Generate report structure:   0%|          | 0/1 [00:00<?, ?it/s]"
      ]
     },
     "metadata": {},
     "output_type": "display_data"
    },
    {
     "data": {
      "application/vnd.jupyter.widget-view+json": {
       "model_id": "16a26c3c4779430faaf41522d1686535",
       "version_major": 2,
       "version_minor": 0
      },
      "text/plain": [
       "Render HTML:   0%|          | 0/1 [00:00<?, ?it/s]"
      ]
     },
     "metadata": {},
     "output_type": "display_data"
    },
    {
     "data": {
      "application/vnd.jupyter.widget-view+json": {
       "model_id": "e0fac4c87cce41888a92153c41e76876",
       "version_major": 2,
       "version_minor": 0
      },
      "text/plain": [
       "Export report to file:   0%|          | 0/1 [00:00<?, ?it/s]"
      ]
     },
     "metadata": {},
     "output_type": "display_data"
    }
   ],
   "source": [
    "# Generate report\n",
    "religious_census_data = ProfileReport(religious_status_df, title='Religion Census Data Report', explorative= True)\n",
    "\n",
    "# Save the profile report to HTML file\n",
    "religious_census_data.to_file('religious_census_data_report.html')"
   ]
  },
  {
   "cell_type": "code",
   "execution_count": 115,
   "id": "690998de",
   "metadata": {},
   "outputs": [
    {
     "data": {
      "image/png": "[encoded data removed]",
      "text/plain": [
       "<Figure size 1200x800 with 1 Axes>"
      ]
     },
     "metadata": {},
     "output_type": "display_data"
    }
   ],
   "source": [
    "# Visualize the distribution of individuals across religious affiliations\n",
    "plt.figure(figsize=(12, 8))\n",
    "sns.countplot(data=census, x='Religion', order=census['Religion'].value_counts().index, palette='viridis')\n",
    "plt.title('Distribution of Individuals Across Religious Affiliations')\n",
    "plt.xlabel('Religion')\n",
    "plt.ylabel('Number of Individuals')\n",
    "plt.xticks(rotation=45, ha='right')  # Rotate x-axis labels for better readability\n",
    "plt.show()"
   ]
  },
  {
   "cell_type": "code",
   "execution_count": 120,
   "id": "9a5934ba",
   "metadata": {},
   "outputs": [
    {
     "data": {
      "image/png": "[encoded data removed]",
      "text/plain": [
       "<Figure size 1200x800 with 1 Axes>"
      ]
     },
     "metadata": {},
     "output_type": "display_data"
    }
   ],
   "source": [
    "# Boxplot of Age by religion\n",
    "plt.figure(figsize=(12, 8))\n",
    "\n",
    "sns.boxplot(y='Religion', x='Age', data=census)\n",
    "\n",
    "# Adding labels and title\n",
    "plt.xlabel('Age')\n",
    "plt.ylabel('Religion')\n",
    "plt.title('Boxplot of Age by Religion')\n",
    "\n",
    "plt.savefig(\"religion_boxplot.png\")\n",
    "\n",
    "# Display the plot\n",
    "plt.show()"
   ]
  },
  {
   "cell_type": "markdown",
   "id": "83f77e58",
   "metadata": {},
   "source": [
    "The religion quaker is alsmost none existant. The most dominant religion being Christian have a average age of the church to be 48 which are middle aged adults, most children do not have any religion.\n",
    "\n",
    "No religion is clearly increasing in number. Quaker seem to be the newer religion since the average age of followers are 21 years of age but its not clear if it would expirence an significant growth\n",
    "\n",
    "if 58% of people with none as their religion status are mostly children. It also means that the children are most likely often accompany their parents to their place of worship. Hence have that the largest religion in this dataset is Christian there maybe need to build a second church to manage the population.\n"
   ]
  },
  {
   "cell_type": "markdown",
   "id": "e9713a20",
   "metadata": {},
   "source": [
    " #### Examine the divorce and marriage rate"
   ]
  },
  {
   "cell_type": "code",
   "execution_count": 126,
   "id": "84610158",
   "metadata": {
    "scrolled": false
   },
   "outputs": [
    {
     "data": {
      "text/html": [
       "<div>\n",
       "<style scoped>\n",
       "    .dataframe tbody tr th:only-of-type {\n",
       "        vertical-align: middle;\n",
       "    }\n",
       "\n",
       "    .dataframe tbody tr th {\n",
       "        vertical-align: top;\n",
       "    }\n",
       "\n",
       "    .dataframe thead th {\n",
       "        text-align: right;\n",
       "    }\n",
       "</style>\n",
       "<table border=\"1\" class=\"dataframe\">\n",
       "  <thead>\n",
       "    <tr style=\"text-align: right;\">\n",
       "      <th></th>\n",
       "      <th>Value</th>\n",
       "      <th>Count</th>\n",
       "      <th>Frequency (%)</th>\n",
       "    </tr>\n",
       "  </thead>\n",
       "  <tbody>\n",
       "    <tr>\n",
       "      <th>0</th>\n",
       "      <td>Single</td>\n",
       "      <td>2940</td>\n",
       "      <td>35.3%</td>\n",
       "    </tr>\n",
       "    <tr>\n",
       "      <th>1</th>\n",
       "      <td>Married</td>\n",
       "      <td>2222</td>\n",
       "      <td>26.7%</td>\n",
       "    </tr>\n",
       "    <tr>\n",
       "      <th>2</th>\n",
       "      <td>Child</td>\n",
       "      <td>2058</td>\n",
       "      <td>24.7%</td>\n",
       "    </tr>\n",
       "    <tr>\n",
       "      <th>3</th>\n",
       "      <td>Divorced</td>\n",
       "      <td>744</td>\n",
       "      <td>8.9%</td>\n",
       "    </tr>\n",
       "    <tr>\n",
       "      <th>4</th>\n",
       "      <td>Widowed</td>\n",
       "      <td>360</td>\n",
       "      <td>4.3%</td>\n",
       "    </tr>\n",
       "    <tr>\n",
       "      <th>5</th>\n",
       "      <td>Unknown</td>\n",
       "      <td>3</td>\n",
       "      <td>0.0%</td>\n",
       "    </tr>\n",
       "  </tbody>\n",
       "</table>\n",
       "</div>"
      ],
      "text/plain": [
       "      Value  Count Frequency (%)\n",
       "0    Single   2940         35.3%\n",
       "1   Married   2222         26.7%\n",
       "2     Child   2058         24.7%\n",
       "3  Divorced    744          8.9%\n",
       "4   Widowed    360          4.3%\n",
       "5   Unknown      3          0.0%"
      ]
     },
     "execution_count": 126,
     "metadata": {},
     "output_type": "execute_result"
    }
   ],
   "source": [
    "# Get value counts for marital status\n",
    "marital_status = census['Marital Status']\n",
    "\n",
    "marital_status_count = marital_status.value_counts()\n",
    "\n",
    "# Calculate employment percentage frequency\n",
    "marital_status_frequency = round((marital_status_count / len(marital_status)) * 100, 1).astype('str')\n",
    "\n",
    "# Create dataframe to display the result\n",
    "marital_status_df = pd.DataFrame({\n",
    "    'Value': marital_status_count.index,\n",
    "    'Count': marital_status_count.values,\n",
    "    'Frequency (%)': marital_status_frequency.values + \"%\"\n",
    "})\n",
    "\n",
    "# Display result\n",
    "marital_status_df"
   ]
  },
  {
   "cell_type": "code",
   "execution_count": 127,
   "id": "b9e9443e",
   "metadata": {
    "scrolled": true
   },
   "outputs": [
    {
     "data": {
      "application/vnd.jupyter.widget-view+json": {
       "model_id": "608aed2ec1df49ec8f8cf765d7ff4eef",
       "version_major": 2,
       "version_minor": 0
      },
      "text/plain": [
       "Summarize dataset:   0%|          | 0/5 [00:00<?, ?it/s]"
      ]
     },
     "metadata": {},
     "output_type": "display_data"
    },
    {
     "data": {
      "application/vnd.jupyter.widget-view+json": {
       "model_id": "93a130f88f0f49a3bff766a95b8cacf0",
       "version_major": 2,
       "version_minor": 0
      },
      "text/plain": [
       "Generate report structure:   0%|          | 0/1 [00:00<?, ?it/s]"
      ]
     },
     "metadata": {},
     "output_type": "display_data"
    },
    {
     "data": {
      "application/vnd.jupyter.widget-view+json": {
       "model_id": "4a81b4fd78be473285423e42611fdd34",
       "version_major": 2,
       "version_minor": 0
      },
      "text/plain": [
       "Render HTML:   0%|          | 0/1 [00:00<?, ?it/s]"
      ]
     },
     "metadata": {},
     "output_type": "display_data"
    },
    {
     "data": {
      "application/vnd.jupyter.widget-view+json": {
       "model_id": "5d54459401db429bb5a777215d6c58a8",
       "version_major": 2,
       "version_minor": 0
      },
      "text/plain": [
       "Export report to file:   0%|          | 0/1 [00:00<?, ?it/s]"
      ]
     },
     "metadata": {},
     "output_type": "display_data"
    }
   ],
   "source": [
    "# Generate report\n",
    "marital_census_data = ProfileReport(marital_status_df, title='Marital Census Data Report', explorative= True)\n",
    "\n",
    "# Save the profile report to HTML file\n",
    "marital_census_data.to_file('marital_census_data_report.html')"
   ]
  },
  {
   "cell_type": "code",
   "execution_count": 130,
   "id": "05506c75",
   "metadata": {},
   "outputs": [
    {
     "data": {
      "image/png": "[encoded data removed]",
      "text/plain": [
       "<Figure size 800x500 with 1 Axes>"
      ]
     },
     "metadata": {},
     "output_type": "display_data"
    }
   ],
   "source": [
    "plt.figure(figsize=(8,5))\n",
    "sns.countplot(x='Marital Status', data=census)\n",
    "plt.title(\"Marital Status Distribution\")\n",
    "\n",
    "plt.savefig(\"marital_df.png\")\n",
    "\n",
    "plt.show()"
   ]
  },
  {
   "cell_type": "code",
   "execution_count": 249,
   "id": "16282143",
   "metadata": {},
   "outputs": [
    {
     "name": "stdout",
     "output_type": "stream",
     "text": [
      "Marriage Rate: 0.2668428005284016\n",
      "Divorce Rate: 0.08934790440734959\n"
     ]
    }
   ],
   "source": [
    "# Calculate the number of individuals in each marital status\n",
    "marriage_count = census[census['Marital Status'] == 'Married'].shape[0]\n",
    "divorce_count = census[census['Marital Status'] == 'Divorced'].shape[0]\n",
    "\n",
    "# Calculate the total number of individuals\n",
    "total_count = census.shape[0]\n",
    "\n",
    "# Calculate marriage and divorce rates\n",
    "marriage_rate = marriage_count / total_count\n",
    "divorce_rate = divorce_count / total_count\n",
    "\n",
    "# Display the rates\n",
    "print(\"Marriage Rate:\", marriage_rate)\n",
    "print(\"Divorce Rate:\", divorce_rate)"
   ]
  },
  {
   "cell_type": "markdown",
   "id": "4f8ff624",
   "metadata": {},
   "source": [
    "27% of the population is married and 9% are divorced"
   ]
  },
  {
   "cell_type": "code",
   "execution_count": 250,
   "id": "72ac1cc5",
   "metadata": {},
   "outputs": [
    {
     "data": {
      "image/png": "[encoded data removed]",
      "text/plain": [
       "<Figure size 1000x600 with 1 Axes>"
      ]
     },
     "metadata": {},
     "output_type": "display_data"
    }
   ],
   "source": [
    "# Visualize the marriage and divorce rates\n",
    "plt.figure(figsize=(10, 6))\n",
    "sns.barplot(x=['Marriage', 'Divorce'], y=[marriage_rate, divorce_rate], palette='viridis')\n",
    "plt.title('Marriage and Divorce Rates')\n",
    "\n",
    "plt.savefig(\"marriage_divorce_rate.png\")\n",
    "\n",
    "plt.ylabel('Rate')\n",
    "plt.show()"
   ]
  },
  {
   "cell_type": "code",
   "execution_count": 131,
   "id": "22bdf956",
   "metadata": {},
   "outputs": [
    {
     "data": {
      "text/html": [
       "<div>\n",
       "<style scoped>\n",
       "    .dataframe tbody tr th:only-of-type {\n",
       "        vertical-align: middle;\n",
       "    }\n",
       "\n",
       "    .dataframe tbody tr th {\n",
       "        vertical-align: top;\n",
       "    }\n",
       "\n",
       "    .dataframe thead th {\n",
       "        text-align: right;\n",
       "    }\n",
       "</style>\n",
       "<table border=\"1\" class=\"dataframe\">\n",
       "  <thead>\n",
       "    <tr style=\"text-align: right;\">\n",
       "      <th></th>\n",
       "      <th>Age Group</th>\n",
       "      <th>Marriage Count</th>\n",
       "    </tr>\n",
       "  </thead>\n",
       "  <tbody>\n",
       "    <tr>\n",
       "      <th>0</th>\n",
       "      <td>0-4</td>\n",
       "      <td>0</td>\n",
       "    </tr>\n",
       "    <tr>\n",
       "      <th>1</th>\n",
       "      <td>5-9</td>\n",
       "      <td>0</td>\n",
       "    </tr>\n",
       "    <tr>\n",
       "      <th>2</th>\n",
       "      <td>10-14</td>\n",
       "      <td>0</td>\n",
       "    </tr>\n",
       "    <tr>\n",
       "      <th>3</th>\n",
       "      <td>15-19</td>\n",
       "      <td>2</td>\n",
       "    </tr>\n",
       "    <tr>\n",
       "      <th>4</th>\n",
       "      <td>20-24</td>\n",
       "      <td>58</td>\n",
       "    </tr>\n",
       "    <tr>\n",
       "      <th>5</th>\n",
       "      <td>25-29</td>\n",
       "      <td>105</td>\n",
       "    </tr>\n",
       "    <tr>\n",
       "      <th>6</th>\n",
       "      <td>30-34</td>\n",
       "      <td>179</td>\n",
       "    </tr>\n",
       "    <tr>\n",
       "      <th>7</th>\n",
       "      <td>35-39</td>\n",
       "      <td>236</td>\n",
       "    </tr>\n",
       "    <tr>\n",
       "      <th>8</th>\n",
       "      <td>40-44</td>\n",
       "      <td>249</td>\n",
       "    </tr>\n",
       "    <tr>\n",
       "      <th>9</th>\n",
       "      <td>45-49</td>\n",
       "      <td>263</td>\n",
       "    </tr>\n",
       "    <tr>\n",
       "      <th>10</th>\n",
       "      <td>50-54</td>\n",
       "      <td>253</td>\n",
       "    </tr>\n",
       "    <tr>\n",
       "      <th>11</th>\n",
       "      <td>55-59</td>\n",
       "      <td>195</td>\n",
       "    </tr>\n",
       "    <tr>\n",
       "      <th>12</th>\n",
       "      <td>60-64</td>\n",
       "      <td>188</td>\n",
       "    </tr>\n",
       "    <tr>\n",
       "      <th>13</th>\n",
       "      <td>65-69</td>\n",
       "      <td>153</td>\n",
       "    </tr>\n",
       "    <tr>\n",
       "      <th>14</th>\n",
       "      <td>70-74</td>\n",
       "      <td>149</td>\n",
       "    </tr>\n",
       "    <tr>\n",
       "      <th>15</th>\n",
       "      <td>75-79</td>\n",
       "      <td>87</td>\n",
       "    </tr>\n",
       "    <tr>\n",
       "      <th>16</th>\n",
       "      <td>80-84</td>\n",
       "      <td>63</td>\n",
       "    </tr>\n",
       "    <tr>\n",
       "      <th>17</th>\n",
       "      <td>85-89</td>\n",
       "      <td>22</td>\n",
       "    </tr>\n",
       "    <tr>\n",
       "      <th>18</th>\n",
       "      <td>90-94</td>\n",
       "      <td>14</td>\n",
       "    </tr>\n",
       "    <tr>\n",
       "      <th>19</th>\n",
       "      <td>95+</td>\n",
       "      <td>6</td>\n",
       "    </tr>\n",
       "  </tbody>\n",
       "</table>\n",
       "</div>"
      ],
      "text/plain": [
       "   Age Group  Marriage Count\n",
       "0        0-4               0\n",
       "1        5-9               0\n",
       "2      10-14               0\n",
       "3      15-19               2\n",
       "4      20-24              58\n",
       "5      25-29             105\n",
       "6      30-34             179\n",
       "7      35-39             236\n",
       "8      40-44             249\n",
       "9      45-49             263\n",
       "10     50-54             253\n",
       "11     55-59             195\n",
       "12     60-64             188\n",
       "13     65-69             153\n",
       "14     70-74             149\n",
       "15     75-79              87\n",
       "16     80-84              63\n",
       "17     85-89              22\n",
       "18     90-94              14\n",
       "19       95+               6"
      ]
     },
     "execution_count": 131,
     "metadata": {},
     "output_type": "execute_result"
    }
   ],
   "source": [
    "# Marriage distribution against age\n",
    "married_df = census[census['Marital Status'] == 'Married'].groupby('Age Group').size().reset_index(name='Marriage Count')\n",
    "\n",
    "married_df"
   ]
  },
  {
   "cell_type": "code",
   "execution_count": 133,
   "id": "6cf75ece",
   "metadata": {},
   "outputs": [
    {
     "data": {
      "text/html": [
       "<div>\n",
       "<style scoped>\n",
       "    .dataframe tbody tr th:only-of-type {\n",
       "        vertical-align: middle;\n",
       "    }\n",
       "\n",
       "    .dataframe tbody tr th {\n",
       "        vertical-align: top;\n",
       "    }\n",
       "\n",
       "    .dataframe thead th {\n",
       "        text-align: right;\n",
       "    }\n",
       "</style>\n",
       "<table border=\"1\" class=\"dataframe\">\n",
       "  <thead>\n",
       "    <tr style=\"text-align: right;\">\n",
       "      <th></th>\n",
       "      <th>Age Group</th>\n",
       "      <th>Divorce Count</th>\n",
       "    </tr>\n",
       "  </thead>\n",
       "  <tbody>\n",
       "    <tr>\n",
       "      <th>0</th>\n",
       "      <td>0-4</td>\n",
       "      <td>0</td>\n",
       "    </tr>\n",
       "    <tr>\n",
       "      <th>1</th>\n",
       "      <td>5-9</td>\n",
       "      <td>0</td>\n",
       "    </tr>\n",
       "    <tr>\n",
       "      <th>2</th>\n",
       "      <td>10-14</td>\n",
       "      <td>0</td>\n",
       "    </tr>\n",
       "    <tr>\n",
       "      <th>3</th>\n",
       "      <td>15-19</td>\n",
       "      <td>21</td>\n",
       "    </tr>\n",
       "    <tr>\n",
       "      <th>4</th>\n",
       "      <td>20-24</td>\n",
       "      <td>102</td>\n",
       "    </tr>\n",
       "    <tr>\n",
       "      <th>5</th>\n",
       "      <td>25-29</td>\n",
       "      <td>75</td>\n",
       "    </tr>\n",
       "    <tr>\n",
       "      <th>6</th>\n",
       "      <td>30-34</td>\n",
       "      <td>75</td>\n",
       "    </tr>\n",
       "    <tr>\n",
       "      <th>7</th>\n",
       "      <td>35-39</td>\n",
       "      <td>95</td>\n",
       "    </tr>\n",
       "    <tr>\n",
       "      <th>8</th>\n",
       "      <td>40-44</td>\n",
       "      <td>89</td>\n",
       "    </tr>\n",
       "    <tr>\n",
       "      <th>9</th>\n",
       "      <td>45-49</td>\n",
       "      <td>81</td>\n",
       "    </tr>\n",
       "    <tr>\n",
       "      <th>10</th>\n",
       "      <td>50-54</td>\n",
       "      <td>45</td>\n",
       "    </tr>\n",
       "    <tr>\n",
       "      <th>11</th>\n",
       "      <td>55-59</td>\n",
       "      <td>43</td>\n",
       "    </tr>\n",
       "    <tr>\n",
       "      <th>12</th>\n",
       "      <td>60-64</td>\n",
       "      <td>36</td>\n",
       "    </tr>\n",
       "    <tr>\n",
       "      <th>13</th>\n",
       "      <td>65-69</td>\n",
       "      <td>18</td>\n",
       "    </tr>\n",
       "    <tr>\n",
       "      <th>14</th>\n",
       "      <td>70-74</td>\n",
       "      <td>27</td>\n",
       "    </tr>\n",
       "    <tr>\n",
       "      <th>15</th>\n",
       "      <td>75-79</td>\n",
       "      <td>14</td>\n",
       "    </tr>\n",
       "    <tr>\n",
       "      <th>16</th>\n",
       "      <td>80-84</td>\n",
       "      <td>13</td>\n",
       "    </tr>\n",
       "    <tr>\n",
       "      <th>17</th>\n",
       "      <td>85-89</td>\n",
       "      <td>7</td>\n",
       "    </tr>\n",
       "    <tr>\n",
       "      <th>18</th>\n",
       "      <td>90-94</td>\n",
       "      <td>2</td>\n",
       "    </tr>\n",
       "    <tr>\n",
       "      <th>19</th>\n",
       "      <td>95+</td>\n",
       "      <td>1</td>\n",
       "    </tr>\n",
       "  </tbody>\n",
       "</table>\n",
       "</div>"
      ],
      "text/plain": [
       "   Age Group  Divorce Count\n",
       "0        0-4              0\n",
       "1        5-9              0\n",
       "2      10-14              0\n",
       "3      15-19             21\n",
       "4      20-24            102\n",
       "5      25-29             75\n",
       "6      30-34             75\n",
       "7      35-39             95\n",
       "8      40-44             89\n",
       "9      45-49             81\n",
       "10     50-54             45\n",
       "11     55-59             43\n",
       "12     60-64             36\n",
       "13     65-69             18\n",
       "14     70-74             27\n",
       "15     75-79             14\n",
       "16     80-84             13\n",
       "17     85-89              7\n",
       "18     90-94              2\n",
       "19       95+              1"
      ]
     },
     "execution_count": 133,
     "metadata": {},
     "output_type": "execute_result"
    }
   ],
   "source": [
    "# Divorced distribution against age\n",
    "divorced_df = census[census['Marital Status'] == 'Divorced'].groupby('Age Group').size().reset_index(name='Divorce Count')\n",
    "divorced_df"
   ]
  },
  {
   "cell_type": "markdown",
   "id": "c03d0f42",
   "metadata": {},
   "source": [
    "More younger couples between the age of 20-24 have higher divorce rate"
   ]
  },
  {
   "cell_type": "code",
   "execution_count": 134,
   "id": "b914b8ef",
   "metadata": {},
   "outputs": [
    {
     "data": {
      "text/html": [
       "<div>\n",
       "<style scoped>\n",
       "    .dataframe tbody tr th:only-of-type {\n",
       "        vertical-align: middle;\n",
       "    }\n",
       "\n",
       "    .dataframe tbody tr th {\n",
       "        vertical-align: top;\n",
       "    }\n",
       "\n",
       "    .dataframe thead th {\n",
       "        text-align: right;\n",
       "    }\n",
       "</style>\n",
       "<table border=\"1\" class=\"dataframe\">\n",
       "  <thead>\n",
       "    <tr style=\"text-align: right;\">\n",
       "      <th></th>\n",
       "      <th>Gender</th>\n",
       "      <th>Divorce Count</th>\n",
       "    </tr>\n",
       "  </thead>\n",
       "  <tbody>\n",
       "    <tr>\n",
       "      <th>0</th>\n",
       "      <td>Female</td>\n",
       "      <td>445</td>\n",
       "    </tr>\n",
       "    <tr>\n",
       "      <th>1</th>\n",
       "      <td>Male</td>\n",
       "      <td>299</td>\n",
       "    </tr>\n",
       "  </tbody>\n",
       "</table>\n",
       "</div>"
      ],
      "text/plain": [
       "   Gender  Divorce Count\n",
       "0  Female            445\n",
       "1    Male            299"
      ]
     },
     "execution_count": 134,
     "metadata": {},
     "output_type": "execute_result"
    }
   ],
   "source": [
    "# Get the gender with the most divorced rate\n",
    "gender_divorced_df = census[census['Marital Status'] == 'Divorced'].groupby('Gender').size().reset_index(name='Divorce Count')\n",
    "gender_divorced_df"
   ]
  },
  {
   "cell_type": "code",
   "execution_count": 141,
   "id": "9f7d106b",
   "metadata": {
    "scrolled": true
   },
   "outputs": [
    {
     "data": {
      "text/html": [
       "<div>\n",
       "<style scoped>\n",
       "    .dataframe tbody tr th:only-of-type {\n",
       "        vertical-align: middle;\n",
       "    }\n",
       "\n",
       "    .dataframe tbody tr th {\n",
       "        vertical-align: top;\n",
       "    }\n",
       "\n",
       "    .dataframe thead th {\n",
       "        text-align: right;\n",
       "    }\n",
       "</style>\n",
       "<table border=\"1\" class=\"dataframe\">\n",
       "  <thead>\n",
       "    <tr style=\"text-align: right;\">\n",
       "      <th>Employment Status</th>\n",
       "      <th>Employed</th>\n",
       "      <th>Retired</th>\n",
       "      <th>Student (Child)</th>\n",
       "      <th>Unemployed</th>\n",
       "      <th>University Student</th>\n",
       "    </tr>\n",
       "    <tr>\n",
       "      <th>Marital Status</th>\n",
       "      <th></th>\n",
       "      <th></th>\n",
       "      <th></th>\n",
       "      <th></th>\n",
       "      <th></th>\n",
       "    </tr>\n",
       "  </thead>\n",
       "  <tbody>\n",
       "    <tr>\n",
       "      <th>Child</th>\n",
       "      <td>NaN</td>\n",
       "      <td>NaN</td>\n",
       "      <td>1558.0</td>\n",
       "      <td>NaN</td>\n",
       "      <td>NaN</td>\n",
       "    </tr>\n",
       "    <tr>\n",
       "      <th>Divorced</th>\n",
       "      <td>466.0</td>\n",
       "      <td>74.0</td>\n",
       "      <td>21.0</td>\n",
       "      <td>104.0</td>\n",
       "      <td>79.0</td>\n",
       "    </tr>\n",
       "    <tr>\n",
       "      <th>Married</th>\n",
       "      <td>1640.0</td>\n",
       "      <td>428.0</td>\n",
       "      <td>2.0</td>\n",
       "      <td>109.0</td>\n",
       "      <td>43.0</td>\n",
       "    </tr>\n",
       "    <tr>\n",
       "      <th>Single</th>\n",
       "      <td>2133.0</td>\n",
       "      <td>58.0</td>\n",
       "      <td>84.0</td>\n",
       "      <td>245.0</td>\n",
       "      <td>420.0</td>\n",
       "    </tr>\n",
       "    <tr>\n",
       "      <th>Unknown</th>\n",
       "      <td>1.0</td>\n",
       "      <td>NaN</td>\n",
       "      <td>NaN</td>\n",
       "      <td>NaN</td>\n",
       "      <td>2.0</td>\n",
       "    </tr>\n",
       "    <tr>\n",
       "      <th>Widowed</th>\n",
       "      <td>101.0</td>\n",
       "      <td>223.0</td>\n",
       "      <td>4.0</td>\n",
       "      <td>18.0</td>\n",
       "      <td>14.0</td>\n",
       "    </tr>\n",
       "  </tbody>\n",
       "</table>\n",
       "</div>"
      ],
      "text/plain": [
       "Employment Status  Employed  Retired  Student (Child)  Unemployed  \\\n",
       "Marital Status                                                      \n",
       "Child                   NaN      NaN           1558.0         NaN   \n",
       "Divorced              466.0     74.0             21.0       104.0   \n",
       "Married              1640.0    428.0              2.0       109.0   \n",
       "Single               2133.0     58.0             84.0       245.0   \n",
       "Unknown                 1.0      NaN              NaN         NaN   \n",
       "Widowed               101.0    223.0              4.0        18.0   \n",
       "\n",
       "Employment Status  University Student  \n",
       "Marital Status                         \n",
       "Child                             NaN  \n",
       "Divorced                         79.0  \n",
       "Married                          43.0  \n",
       "Single                          420.0  \n",
       "Unknown                           2.0  \n",
       "Widowed                          14.0  "
      ]
     },
     "execution_count": 141,
     "metadata": {},
     "output_type": "execute_result"
    }
   ],
   "source": [
    "# Get mariage and employment correlation\n",
    "marital_employment_correlation = census.groupby(['Marital Status', 'Employment Status']).size().unstack()\n",
    "marital_employment_correlation = marital_employment_correlation.drop('Child', axis=1)\n",
    "marital_employment_correlation\n"
   ]
  },
  {
   "cell_type": "code",
   "execution_count": 145,
   "id": "f39791f4",
   "metadata": {},
   "outputs": [
    {
     "data": {
      "text/html": [
       "<div>\n",
       "<style scoped>\n",
       "    .dataframe tbody tr th:only-of-type {\n",
       "        vertical-align: middle;\n",
       "    }\n",
       "\n",
       "    .dataframe tbody tr th {\n",
       "        vertical-align: top;\n",
       "    }\n",
       "\n",
       "    .dataframe thead th {\n",
       "        text-align: right;\n",
       "    }\n",
       "</style>\n",
       "<table border=\"1\" class=\"dataframe\">\n",
       "  <thead>\n",
       "    <tr style=\"text-align: right;\">\n",
       "      <th>Employment Status</th>\n",
       "      <th>Employed</th>\n",
       "      <th>Retired</th>\n",
       "      <th>Student (Child)</th>\n",
       "      <th>Unemployed</th>\n",
       "      <th>University Student</th>\n",
       "    </tr>\n",
       "    <tr>\n",
       "      <th>Marital Status</th>\n",
       "      <th></th>\n",
       "      <th></th>\n",
       "      <th></th>\n",
       "      <th></th>\n",
       "      <th></th>\n",
       "    </tr>\n",
       "  </thead>\n",
       "  <tbody>\n",
       "    <tr>\n",
       "      <th>Divorced</th>\n",
       "      <td>466.0</td>\n",
       "      <td>74.0</td>\n",
       "      <td>21.0</td>\n",
       "      <td>104.0</td>\n",
       "      <td>79.0</td>\n",
       "    </tr>\n",
       "    <tr>\n",
       "      <th>Married</th>\n",
       "      <td>1640.0</td>\n",
       "      <td>428.0</td>\n",
       "      <td>2.0</td>\n",
       "      <td>109.0</td>\n",
       "      <td>43.0</td>\n",
       "    </tr>\n",
       "    <tr>\n",
       "      <th>Single</th>\n",
       "      <td>2133.0</td>\n",
       "      <td>58.0</td>\n",
       "      <td>84.0</td>\n",
       "      <td>245.0</td>\n",
       "      <td>420.0</td>\n",
       "    </tr>\n",
       "    <tr>\n",
       "      <th>Widowed</th>\n",
       "      <td>101.0</td>\n",
       "      <td>223.0</td>\n",
       "      <td>4.0</td>\n",
       "      <td>18.0</td>\n",
       "      <td>14.0</td>\n",
       "    </tr>\n",
       "  </tbody>\n",
       "</table>\n",
       "</div>"
      ],
      "text/plain": [
       "Employment Status  Employed  Retired  Student (Child)  Unemployed  \\\n",
       "Marital Status                                                      \n",
       "Divorced              466.0     74.0             21.0       104.0   \n",
       "Married              1640.0    428.0              2.0       109.0   \n",
       "Single               2133.0     58.0             84.0       245.0   \n",
       "Widowed               101.0    223.0              4.0        18.0   \n",
       "\n",
       "Employment Status  University Student  \n",
       "Marital Status                         \n",
       "Divorced                         79.0  \n",
       "Married                          43.0  \n",
       "Single                          420.0  \n",
       "Widowed                          14.0  "
      ]
     },
     "execution_count": 145,
     "metadata": {},
     "output_type": "execute_result"
    }
   ],
   "source": [
    "# Drop None values\n",
    "marital_employment = marital_employment_correlation.dropna()\n",
    "\n",
    "marital_employment"
   ]
  },
  {
   "cell_type": "markdown",
   "id": "90bad8e0",
   "metadata": {},
   "source": [
    "#### Occupancy Level Analysis"
   ]
  },
  {
   "cell_type": "code",
   "execution_count": 153,
   "id": "34c91a71",
   "metadata": {
    "scrolled": false
   },
   "outputs": [
    {
     "data": {
      "text/html": [
       "<div>\n",
       "<style scoped>\n",
       "    .dataframe tbody tr th:only-of-type {\n",
       "        vertical-align: middle;\n",
       "    }\n",
       "\n",
       "    .dataframe tbody tr th {\n",
       "        vertical-align: top;\n",
       "    }\n",
       "\n",
       "    .dataframe thead th {\n",
       "        text-align: right;\n",
       "    }\n",
       "</style>\n",
       "<table border=\"1\" class=\"dataframe\">\n",
       "  <thead>\n",
       "    <tr style=\"text-align: right;\">\n",
       "      <th></th>\n",
       "      <th>House Number</th>\n",
       "      <th>Street</th>\n",
       "      <th>Occupancy Level</th>\n",
       "    </tr>\n",
       "  </thead>\n",
       "  <tbody>\n",
       "    <tr>\n",
       "      <th>0</th>\n",
       "      <td>1</td>\n",
       "      <td>Alba Crescent</td>\n",
       "      <td>2</td>\n",
       "    </tr>\n",
       "    <tr>\n",
       "      <th>1</th>\n",
       "      <td>1</td>\n",
       "      <td>Allen Mission</td>\n",
       "      <td>1</td>\n",
       "    </tr>\n",
       "    <tr>\n",
       "      <th>2</th>\n",
       "      <td>1</td>\n",
       "      <td>Andrews Mill</td>\n",
       "      <td>4</td>\n",
       "    </tr>\n",
       "    <tr>\n",
       "      <th>3</th>\n",
       "      <td>1</td>\n",
       "      <td>Armaghspan Avenue</td>\n",
       "      <td>1</td>\n",
       "    </tr>\n",
       "    <tr>\n",
       "      <th>4</th>\n",
       "      <td>1</td>\n",
       "      <td>Bangorthorpe Avenue</td>\n",
       "      <td>2</td>\n",
       "    </tr>\n",
       "    <tr>\n",
       "      <th>...</th>\n",
       "      <td>...</td>\n",
       "      <td>...</td>\n",
       "      <td>...</td>\n",
       "    </tr>\n",
       "    <tr>\n",
       "      <th>2819</th>\n",
       "      <td>203</td>\n",
       "      <td>Wessex Drive</td>\n",
       "      <td>1</td>\n",
       "    </tr>\n",
       "    <tr>\n",
       "      <th>2820</th>\n",
       "      <td>204</td>\n",
       "      <td>Wessex Drive</td>\n",
       "      <td>2</td>\n",
       "    </tr>\n",
       "    <tr>\n",
       "      <th>2821</th>\n",
       "      <td>205</td>\n",
       "      <td>Wessex Drive</td>\n",
       "      <td>1</td>\n",
       "    </tr>\n",
       "    <tr>\n",
       "      <th>2822</th>\n",
       "      <td>206</td>\n",
       "      <td>Wessex Drive</td>\n",
       "      <td>4</td>\n",
       "    </tr>\n",
       "    <tr>\n",
       "      <th>2823</th>\n",
       "      <td>207</td>\n",
       "      <td>Wessex Drive</td>\n",
       "      <td>3</td>\n",
       "    </tr>\n",
       "  </tbody>\n",
       "</table>\n",
       "<p>2824 rows × 3 columns</p>\n",
       "</div>"
      ],
      "text/plain": [
       "      House Number               Street  Occupancy Level\n",
       "0                1        Alba Crescent                2\n",
       "1                1        Allen Mission                1\n",
       "2                1         Andrews Mill                4\n",
       "3                1    Armaghspan Avenue                1\n",
       "4                1  Bangorthorpe Avenue                2\n",
       "...            ...                  ...              ...\n",
       "2819           203         Wessex Drive                1\n",
       "2820           204         Wessex Drive                2\n",
       "2821           205         Wessex Drive                1\n",
       "2822           206         Wessex Drive                4\n",
       "2823           207         Wessex Drive                3\n",
       "\n",
       "[2824 rows x 3 columns]"
      ]
     },
     "execution_count": 153,
     "metadata": {},
     "output_type": "execute_result"
    }
   ],
   "source": [
    "# Calculate the number of people per house by grouping the data based on 'House Number' \n",
    "# and counting the number of individuals in each group\n",
    "\n",
    "occupancy_levels = census.groupby(['House Number','Street'])['First Name'].count().reset_index(name='Occupancy Level')\n",
    "occupancy_levels"
   ]
  },
  {
   "cell_type": "code",
   "execution_count": 178,
   "id": "061ae393",
   "metadata": {},
   "outputs": [
    {
     "data": {
      "image/png": "[encoded data removed]",
      "text/plain": [
       "<Figure size 800x500 with 1 Axes>"
      ]
     },
     "metadata": {},
     "output_type": "display_data"
    }
   ],
   "source": [
    "# Create visualizations, such as histograms or box plots, to visualize the distribution of \n",
    "# occupancy levels and identify any outliers\n",
    "\n",
    "plt.figure(figsize=(8,5))\n",
    "sns.countplot(x = occupancy_levels['Occupancy Level'])\n",
    "plt.xlabel('Occupancy Level')\n",
    "plt.ylabel('Frequency')\n",
    "plt.title('Distribution of Occupancy Levels')\n",
    "\n",
    "# Save Image\n",
    "plt.savefig('occpancy_level_1')\n",
    "\n",
    "# Display graph\n",
    "plt.show()"
   ]
  },
  {
   "cell_type": "code",
   "execution_count": 180,
   "id": "e8c1872a",
   "metadata": {
    "scrolled": true
   },
   "outputs": [
    {
     "data": {
      "image/png": "[encoded data removed]",
      "text/plain": [
       "<Figure size 800x500 with 1 Axes>"
      ]
     },
     "metadata": {},
     "output_type": "display_data"
    }
   ],
   "source": [
    "# Distribution of people per house\n",
    "plt.figure(figsize=(8,5))\n",
    "sns.histplot(occupancy_levels['Occupancy Level'], bins=5, kde=True, edgecolor='black')\n",
    "plt.title('Distribution of People per House')\n",
    "plt.xlabel('Number of People per House')\n",
    "plt.ylabel('Frequency')\n",
    "\n",
    "# Save Image\n",
    "plt.savefig('occpancy_level_2')\n",
    "\n",
    "# Display graph\n",
    "plt.show()"
   ]
  },
  {
   "cell_type": "code",
   "execution_count": 182,
   "id": "95cdfe3f",
   "metadata": {},
   "outputs": [
    {
     "data": {
      "text/html": [
       "<div>\n",
       "<style scoped>\n",
       "    .dataframe tbody tr th:only-of-type {\n",
       "        vertical-align: middle;\n",
       "    }\n",
       "\n",
       "    .dataframe tbody tr th {\n",
       "        vertical-align: top;\n",
       "    }\n",
       "\n",
       "    .dataframe thead th {\n",
       "        text-align: right;\n",
       "    }\n",
       "</style>\n",
       "<table border=\"1\" class=\"dataframe\">\n",
       "  <thead>\n",
       "    <tr style=\"text-align: right;\">\n",
       "      <th></th>\n",
       "      <th>House Number</th>\n",
       "      <th>Occupancy Level</th>\n",
       "    </tr>\n",
       "  </thead>\n",
       "  <tbody>\n",
       "    <tr>\n",
       "      <th>count</th>\n",
       "      <td>2824.000000</td>\n",
       "      <td>2824.000000</td>\n",
       "    </tr>\n",
       "    <tr>\n",
       "      <th>mean</th>\n",
       "      <td>29.295326</td>\n",
       "      <td>2.948654</td>\n",
       "    </tr>\n",
       "    <tr>\n",
       "      <th>std</th>\n",
       "      <td>34.552643</td>\n",
       "      <td>2.045493</td>\n",
       "    </tr>\n",
       "    <tr>\n",
       "      <th>min</th>\n",
       "      <td>1.000000</td>\n",
       "      <td>1.000000</td>\n",
       "    </tr>\n",
       "    <tr>\n",
       "      <th>25%</th>\n",
       "      <td>9.000000</td>\n",
       "      <td>2.000000</td>\n",
       "    </tr>\n",
       "    <tr>\n",
       "      <th>50%</th>\n",
       "      <td>19.000000</td>\n",
       "      <td>2.000000</td>\n",
       "    </tr>\n",
       "    <tr>\n",
       "      <th>75%</th>\n",
       "      <td>35.000000</td>\n",
       "      <td>4.000000</td>\n",
       "    </tr>\n",
       "    <tr>\n",
       "      <th>max</th>\n",
       "      <td>207.000000</td>\n",
       "      <td>22.000000</td>\n",
       "    </tr>\n",
       "  </tbody>\n",
       "</table>\n",
       "</div>"
      ],
      "text/plain": [
       "       House Number  Occupancy Level\n",
       "count   2824.000000      2824.000000\n",
       "mean      29.295326         2.948654\n",
       "std       34.552643         2.045493\n",
       "min        1.000000         1.000000\n",
       "25%        9.000000         2.000000\n",
       "50%       19.000000         2.000000\n",
       "75%       35.000000         4.000000\n",
       "max      207.000000        22.000000"
      ]
     },
     "execution_count": 182,
     "metadata": {},
     "output_type": "execute_result"
    }
   ],
   "source": [
    "# Statistical Analysis\n",
    "occupancy_levels.describe()"
   ]
  },
  {
   "cell_type": "markdown",
   "id": "5ae6a47a",
   "metadata": {},
   "source": [
    "On an average the number of people living in a house is 3"
   ]
  },
  {
   "cell_type": "code",
   "execution_count": 204,
   "id": "55212ef6",
   "metadata": {},
   "outputs": [],
   "source": [
    "# Set occupancy threshold\n",
    "occupancy_threshold = 3"
   ]
  },
  {
   "cell_type": "code",
   "execution_count": 202,
   "id": "94945ca7",
   "metadata": {},
   "outputs": [
    {
     "data": {
      "text/plain": [
       "1868"
      ]
     },
     "execution_count": 202,
     "metadata": {},
     "output_type": "execute_result"
    }
   ],
   "source": [
    "# Identify houses with occupancy levels below or above a certain \n",
    "# threshold to determine if they are moderatelyused or overused\n",
    "\n",
    "moderatelyused = occupancy_levels[occupancy_levels['Occupancy Level'] <= occupancy_threshold]\n",
    "moderatelyused.shape[0]"
   ]
  },
  {
   "cell_type": "code",
   "execution_count": 203,
   "id": "752fc1f5",
   "metadata": {},
   "outputs": [
    {
     "data": {
      "text/plain": [
       "956"
      ]
     },
     "execution_count": 203,
     "metadata": {},
     "output_type": "execute_result"
    }
   ],
   "source": [
    "# Overused House\n",
    "overused_houses = occupancy_levels[occupancy_levels['Occupancy Level'] > occupancy_threshold]\n",
    "overused_houses.shape[0]"
   ]
  },
  {
   "cell_type": "code",
   "execution_count": 191,
   "id": "e776f6cb",
   "metadata": {},
   "outputs": [
    {
     "data": {
      "text/plain": [
       "array([ 2,  1,  4,  5,  3, 11,  6, 22,  7, 15, 12,  8, 10,  9, 18, 16, 20,\n",
       "       14], dtype=int64)"
      ]
     },
     "execution_count": 191,
     "metadata": {},
     "output_type": "execute_result"
    }
   ],
   "source": [
    "# added occupation level\n",
    "census['Occupancy Level'] = census.groupby(['House Number','Street'])['First Name'].transform('count')"
   ]
  },
  {
   "cell_type": "code",
   "execution_count": 207,
   "id": "858d0d61",
   "metadata": {},
   "outputs": [],
   "source": [
    "# Creat a datafram from census\n",
    "occupancy_df = census.copy()"
   ]
  },
  {
   "cell_type": "code",
   "execution_count": 208,
   "id": "ee289019",
   "metadata": {},
   "outputs": [],
   "source": [
    "# Get occupancy level\n",
    "occupancy_df['Occupancy Level'] =  occupancy_df.groupby(['House Number','Street'])['First Name'].transform('count')"
   ]
  },
  {
   "cell_type": "code",
   "execution_count": 217,
   "id": "84f41acf",
   "metadata": {},
   "outputs": [],
   "source": [
    "# Get the occupation dataframe\n",
    "occupancy_df = occupancy_df[(occupancy_df['Marital Status'] != 'Unknown') & (occupancy_df['Marital Status'] != 'Child' )    ] \n"
   ]
  },
  {
   "cell_type": "code",
   "execution_count": 219,
   "id": "cd33530a",
   "metadata": {},
   "outputs": [
    {
     "data": {
      "text/plain": [
       "<Figure size 800x500 with 0 Axes>"
      ]
     },
     "metadata": {},
     "output_type": "display_data"
    },
    {
     "data": {
      "image/png": "[encoded data removed]",
      "text/plain": [
       "<Figure size 1000x1000 with 4 Axes>"
      ]
     },
     "metadata": {},
     "output_type": "display_data"
    }
   ],
   "source": [
    "\n",
    "plt.figure(figsize=(8,5))\n",
    "# Create a FacetGrid with 'Marital Status' as the column variable\n",
    "occpancy_level_mr = sns.FacetGrid(occupancy_df, col=\"Marital Status\", col_wrap=2, height=5)\n",
    "\n",
    "# Map the histograms onto the grid\n",
    "occpancy_level_mr.map(sns.histplot, 'Occupancy Level', 'Age', bins=(20, 30), cmap=\"Blues\", )\n",
    "\n",
    "# Save Image\n",
    "plt.savefig('occpancy_level_mr')\n",
    "\n",
    "# Display graph\n",
    "plt.show()\n"
   ]
  },
  {
   "cell_type": "code",
   "execution_count": 221,
   "id": "b8fdf372",
   "metadata": {},
   "outputs": [
    {
     "data": {
      "text/html": [
       "<div>\n",
       "<style scoped>\n",
       "    .dataframe tbody tr th:only-of-type {\n",
       "        vertical-align: middle;\n",
       "    }\n",
       "\n",
       "    .dataframe tbody tr th {\n",
       "        vertical-align: top;\n",
       "    }\n",
       "\n",
       "    .dataframe thead th {\n",
       "        text-align: right;\n",
       "    }\n",
       "</style>\n",
       "<table border=\"1\" class=\"dataframe\">\n",
       "  <thead>\n",
       "    <tr style=\"text-align: right;\">\n",
       "      <th>Gender</th>\n",
       "      <th>Female</th>\n",
       "      <th>Male</th>\n",
       "    </tr>\n",
       "    <tr>\n",
       "      <th>Occupancy Level</th>\n",
       "      <th></th>\n",
       "      <th></th>\n",
       "    </tr>\n",
       "  </thead>\n",
       "  <tbody>\n",
       "    <tr>\n",
       "      <th>1</th>\n",
       "      <td>360</td>\n",
       "      <td>337</td>\n",
       "    </tr>\n",
       "    <tr>\n",
       "      <th>2</th>\n",
       "      <td>696</td>\n",
       "      <td>617</td>\n",
       "    </tr>\n",
       "    <tr>\n",
       "      <th>3</th>\n",
       "      <td>529</td>\n",
       "      <td>441</td>\n",
       "    </tr>\n",
       "    <tr>\n",
       "      <th>4</th>\n",
       "      <td>688</td>\n",
       "      <td>625</td>\n",
       "    </tr>\n",
       "    <tr>\n",
       "      <th>5</th>\n",
       "      <td>530</td>\n",
       "      <td>522</td>\n",
       "    </tr>\n",
       "    <tr>\n",
       "      <th>6</th>\n",
       "      <td>171</td>\n",
       "      <td>156</td>\n",
       "    </tr>\n",
       "    <tr>\n",
       "      <th>7</th>\n",
       "      <td>49</td>\n",
       "      <td>39</td>\n",
       "    </tr>\n",
       "    <tr>\n",
       "      <th>8</th>\n",
       "      <td>30</td>\n",
       "      <td>25</td>\n",
       "    </tr>\n",
       "    <tr>\n",
       "      <th>9</th>\n",
       "      <td>24</td>\n",
       "      <td>20</td>\n",
       "    </tr>\n",
       "    <tr>\n",
       "      <th>10</th>\n",
       "      <td>28</td>\n",
       "      <td>27</td>\n",
       "    </tr>\n",
       "    <tr>\n",
       "      <th>11</th>\n",
       "      <td>36</td>\n",
       "      <td>29</td>\n",
       "    </tr>\n",
       "    <tr>\n",
       "      <th>12</th>\n",
       "      <td>60</td>\n",
       "      <td>43</td>\n",
       "    </tr>\n",
       "    <tr>\n",
       "      <th>14</th>\n",
       "      <td>6</td>\n",
       "      <td>3</td>\n",
       "    </tr>\n",
       "    <tr>\n",
       "      <th>15</th>\n",
       "      <td>23</td>\n",
       "      <td>16</td>\n",
       "    </tr>\n",
       "    <tr>\n",
       "      <th>16</th>\n",
       "      <td>12</td>\n",
       "      <td>12</td>\n",
       "    </tr>\n",
       "    <tr>\n",
       "      <th>18</th>\n",
       "      <td>20</td>\n",
       "      <td>22</td>\n",
       "    </tr>\n",
       "    <tr>\n",
       "      <th>20</th>\n",
       "      <td>16</td>\n",
       "      <td>15</td>\n",
       "    </tr>\n",
       "    <tr>\n",
       "      <th>22</th>\n",
       "      <td>18</td>\n",
       "      <td>21</td>\n",
       "    </tr>\n",
       "  </tbody>\n",
       "</table>\n",
       "</div>"
      ],
      "text/plain": [
       "Gender           Female  Male\n",
       "Occupancy Level              \n",
       "1                   360   337\n",
       "2                   696   617\n",
       "3                   529   441\n",
       "4                   688   625\n",
       "5                   530   522\n",
       "6                   171   156\n",
       "7                    49    39\n",
       "8                    30    25\n",
       "9                    24    20\n",
       "10                   28    27\n",
       "11                   36    29\n",
       "12                   60    43\n",
       "14                    6     3\n",
       "15                   23    16\n",
       "16                   12    12\n",
       "18                   20    22\n",
       "20                   16    15\n",
       "22                   18    21"
      ]
     },
     "execution_count": 221,
     "metadata": {},
     "output_type": "execute_result"
    }
   ],
   "source": [
    "# Occupancy levels by gender\n",
    "correlation_gender = occupancy_df.groupby('Occupancy Level')['Gender'].value_counts().unstack()\n",
    "correlation_gender"
   ]
  },
  {
   "cell_type": "code",
   "execution_count": 223,
   "id": "565d9e67",
   "metadata": {},
   "outputs": [
    {
     "data": {
      "text/html": [
       "<div>\n",
       "<style scoped>\n",
       "    .dataframe tbody tr th:only-of-type {\n",
       "        vertical-align: middle;\n",
       "    }\n",
       "\n",
       "    .dataframe tbody tr th {\n",
       "        vertical-align: top;\n",
       "    }\n",
       "\n",
       "    .dataframe thead th {\n",
       "        text-align: right;\n",
       "    }\n",
       "</style>\n",
       "<table border=\"1\" class=\"dataframe\">\n",
       "  <thead>\n",
       "    <tr style=\"text-align: right;\">\n",
       "      <th>Marital Status</th>\n",
       "      <th>Divorced</th>\n",
       "      <th>Married</th>\n",
       "      <th>Single</th>\n",
       "      <th>Widowed</th>\n",
       "    </tr>\n",
       "    <tr>\n",
       "      <th>Occupancy Level</th>\n",
       "      <th></th>\n",
       "      <th></th>\n",
       "      <th></th>\n",
       "      <th></th>\n",
       "    </tr>\n",
       "  </thead>\n",
       "  <tbody>\n",
       "    <tr>\n",
       "      <th>1</th>\n",
       "      <td>150.0</td>\n",
       "      <td>NaN</td>\n",
       "      <td>351.0</td>\n",
       "      <td>196.0</td>\n",
       "    </tr>\n",
       "    <tr>\n",
       "      <th>2</th>\n",
       "      <td>90.0</td>\n",
       "      <td>751.0</td>\n",
       "      <td>432.0</td>\n",
       "      <td>40.0</td>\n",
       "    </tr>\n",
       "    <tr>\n",
       "      <th>3</th>\n",
       "      <td>105.0</td>\n",
       "      <td>424.0</td>\n",
       "      <td>410.0</td>\n",
       "      <td>31.0</td>\n",
       "    </tr>\n",
       "    <tr>\n",
       "      <th>4</th>\n",
       "      <td>131.0</td>\n",
       "      <td>531.0</td>\n",
       "      <td>612.0</td>\n",
       "      <td>39.0</td>\n",
       "    </tr>\n",
       "    <tr>\n",
       "      <th>5</th>\n",
       "      <td>118.0</td>\n",
       "      <td>336.0</td>\n",
       "      <td>572.0</td>\n",
       "      <td>26.0</td>\n",
       "    </tr>\n",
       "    <tr>\n",
       "      <th>6</th>\n",
       "      <td>42.0</td>\n",
       "      <td>90.0</td>\n",
       "      <td>187.0</td>\n",
       "      <td>8.0</td>\n",
       "    </tr>\n",
       "    <tr>\n",
       "      <th>7</th>\n",
       "      <td>10.0</td>\n",
       "      <td>28.0</td>\n",
       "      <td>49.0</td>\n",
       "      <td>1.0</td>\n",
       "    </tr>\n",
       "    <tr>\n",
       "      <th>8</th>\n",
       "      <td>10.0</td>\n",
       "      <td>10.0</td>\n",
       "      <td>32.0</td>\n",
       "      <td>3.0</td>\n",
       "    </tr>\n",
       "    <tr>\n",
       "      <th>9</th>\n",
       "      <td>8.0</td>\n",
       "      <td>8.0</td>\n",
       "      <td>26.0</td>\n",
       "      <td>2.0</td>\n",
       "    </tr>\n",
       "    <tr>\n",
       "      <th>10</th>\n",
       "      <td>12.0</td>\n",
       "      <td>10.0</td>\n",
       "      <td>29.0</td>\n",
       "      <td>4.0</td>\n",
       "    </tr>\n",
       "    <tr>\n",
       "      <th>11</th>\n",
       "      <td>13.0</td>\n",
       "      <td>6.0</td>\n",
       "      <td>42.0</td>\n",
       "      <td>4.0</td>\n",
       "    </tr>\n",
       "    <tr>\n",
       "      <th>12</th>\n",
       "      <td>19.0</td>\n",
       "      <td>14.0</td>\n",
       "      <td>66.0</td>\n",
       "      <td>4.0</td>\n",
       "    </tr>\n",
       "    <tr>\n",
       "      <th>14</th>\n",
       "      <td>NaN</td>\n",
       "      <td>NaN</td>\n",
       "      <td>8.0</td>\n",
       "      <td>1.0</td>\n",
       "    </tr>\n",
       "    <tr>\n",
       "      <th>15</th>\n",
       "      <td>8.0</td>\n",
       "      <td>2.0</td>\n",
       "      <td>29.0</td>\n",
       "      <td>NaN</td>\n",
       "    </tr>\n",
       "    <tr>\n",
       "      <th>16</th>\n",
       "      <td>6.0</td>\n",
       "      <td>4.0</td>\n",
       "      <td>14.0</td>\n",
       "      <td>NaN</td>\n",
       "    </tr>\n",
       "    <tr>\n",
       "      <th>18</th>\n",
       "      <td>9.0</td>\n",
       "      <td>4.0</td>\n",
       "      <td>28.0</td>\n",
       "      <td>1.0</td>\n",
       "    </tr>\n",
       "    <tr>\n",
       "      <th>20</th>\n",
       "      <td>4.0</td>\n",
       "      <td>2.0</td>\n",
       "      <td>25.0</td>\n",
       "      <td>NaN</td>\n",
       "    </tr>\n",
       "    <tr>\n",
       "      <th>22</th>\n",
       "      <td>9.0</td>\n",
       "      <td>2.0</td>\n",
       "      <td>28.0</td>\n",
       "      <td>NaN</td>\n",
       "    </tr>\n",
       "  </tbody>\n",
       "</table>\n",
       "</div>"
      ],
      "text/plain": [
       "Marital Status   Divorced  Married  Single  Widowed\n",
       "Occupancy Level                                    \n",
       "1                   150.0      NaN   351.0    196.0\n",
       "2                    90.0    751.0   432.0     40.0\n",
       "3                   105.0    424.0   410.0     31.0\n",
       "4                   131.0    531.0   612.0     39.0\n",
       "5                   118.0    336.0   572.0     26.0\n",
       "6                    42.0     90.0   187.0      8.0\n",
       "7                    10.0     28.0    49.0      1.0\n",
       "8                    10.0     10.0    32.0      3.0\n",
       "9                     8.0      8.0    26.0      2.0\n",
       "10                   12.0     10.0    29.0      4.0\n",
       "11                   13.0      6.0    42.0      4.0\n",
       "12                   19.0     14.0    66.0      4.0\n",
       "14                    NaN      NaN     8.0      1.0\n",
       "15                    8.0      2.0    29.0      NaN\n",
       "16                    6.0      4.0    14.0      NaN\n",
       "18                    9.0      4.0    28.0      1.0\n",
       "20                    4.0      2.0    25.0      NaN\n",
       "22                    9.0      2.0    28.0      NaN"
      ]
     },
     "execution_count": 223,
     "metadata": {},
     "output_type": "execute_result"
    }
   ],
   "source": [
    "# Occupancy levels by marital status\n",
    "occupancy_marital = occupancy_df.groupby('Occupancy Level')['Marital Status'].value_counts().unstack()\n",
    "occupancy_marital"
   ]
  },
  {
   "cell_type": "code",
   "execution_count": 224,
   "id": "1592941c",
   "metadata": {},
   "outputs": [
    {
     "name": "stdout",
     "output_type": "stream",
     "text": [
      "Number of University Students: 558\n"
     ]
    }
   ],
   "source": [
    "# Get the number of university students\n",
    "university_students = census[census['Occupation'] == 'University Student'].shape[0]\n",
    "print(f\"Number of University Students: {university_students}\")"
   ]
  },
  {
   "cell_type": "code",
   "execution_count": 230,
   "id": "f88b6dcc",
   "metadata": {},
   "outputs": [
    {
     "name": "stdout",
     "output_type": "stream",
     "text": [
      "Number of PHD Students: 14\n"
     ]
    }
   ],
   "source": [
    "# Get the number phd students\n",
    "phd_students = census[census['Occupation'].str.contains('phd', case=False)].shape[0]\n",
    "print(f\"Number of PHD Students: {phd_students}\")"
   ]
  },
  {
   "cell_type": "code",
   "execution_count": 236,
   "id": "c18e7021",
   "metadata": {
    "scrolled": true
   },
   "outputs": [
    {
     "data": {
      "text/plain": [
       "4341"
      ]
     },
     "execution_count": 236,
     "metadata": {},
     "output_type": "execute_result"
    }
   ],
   "source": [
    "# Get possible comutters\n",
    "employed_number = census[census['Employment Status'] == 'Employed'].shape[0]\n",
    "employed_number"
   ]
  },
  {
   "cell_type": "code",
   "execution_count": 237,
   "id": "3c50194d",
   "metadata": {},
   "outputs": [
    {
     "name": "stdout",
     "output_type": "stream",
     "text": [
      "Possible Number of Commuters: 4913\n"
     ]
    }
   ],
   "source": [
    "# Get the number of possible comutters\n",
    "possible_comutters = university_students + phd_students + employed_number\n",
    "\n",
    "print(f\"Possible Number of Commuters: {possible_comutters}\")"
   ]
  },
  {
   "cell_type": "code",
   "execution_count": 240,
   "id": "f503644b",
   "metadata": {},
   "outputs": [
    {
     "name": "stdout",
     "output_type": "stream",
     "text": [
      "Possible Number of non commuters: 3414\n"
     ]
    }
   ],
   "source": [
    "# Get possible non comutters\n",
    "possible_non_comutters = census.shape[0] - possible_comutters\n",
    "\n",
    "print(f\"Possible Number of non commuters: {possible_non_comutters}\")"
   ]
  },
  {
   "cell_type": "code",
   "execution_count": 243,
   "id": "99025773",
   "metadata": {},
   "outputs": [
    {
     "data": {
      "image/png": "[encoded data removed]",
      "text/plain": [
       "<Figure size 1000x600 with 1 Axes>"
      ]
     },
     "metadata": {},
     "output_type": "display_data"
    }
   ],
   "source": [
    "# Visualize the commuters rates\n",
    "\n",
    "plt.figure(figsize=(10, 6))\n",
    "sns.barplot(x=['Possible Commuters', 'Possible Non-Commuters'], y=[possible_comutters, possible_non_comutters], palette='viridis')\n",
    "plt.title('Commuters Rates')\n",
    "\n",
    "plt.savefig(\"commuters_rate.png\")\n",
    "\n",
    "plt.ylabel('Count')\n",
    "plt.show()"
   ]
  },
  {
   "cell_type": "code",
   "execution_count": 244,
   "id": "328561f8",
   "metadata": {},
   "outputs": [],
   "source": [
    "# Calculate the number of individuals in specific age groups\n",
    "child_population = census[(census['Age'] >= 0) & (census['Age'] <= 14)].shape[0]\n",
    "adult_population = census[(census['Age'] >= 15) & (census['Age'] <= 64)].shape[0]\n",
    "elderly_population = census[census['Age'] >= 65].shape[0]"
   ]
  },
  {
   "cell_type": "code",
   "execution_count": 246,
   "id": "62eba27c",
   "metadata": {},
   "outputs": [
    {
     "name": "stdout",
     "output_type": "stream",
     "text": [
      "Birth Rate (Children) per 1,000 Population: 204.6355229974781\n",
      "Death Rate (Elderly) per 1,000 Population: 101.3570313438213\n"
     ]
    }
   ],
   "source": [
    "# Estimate birth rate and death rate per 1,000 population\n",
    "child_birth_rate = (child_population / census.shape[0]) * 1000\n",
    "elderly_death_rate = (elderly_population / census.shape[0]) * 1000\n",
    "\n",
    "# Display the results\n",
    "print(\"Birth Rate (Children) per 1,000 Population:\", child_birth_rate)\n",
    "print(\"Death Rate (Elderly) per 1,000 Population:\", elderly_death_rate)"
   ]
  },
  {
   "cell_type": "code",
   "execution_count": 248,
   "id": "03ad5a14",
   "metadata": {},
   "outputs": [
    {
     "data": {
      "image/png": "[encoded data removed]",
      "text/plain": [
       "<Figure size 1000x600 with 1 Axes>"
      ]
     },
     "metadata": {},
     "output_type": "display_data"
    }
   ],
   "source": [
    "# Visualize the birth/death rates\n",
    "\n",
    "plt.figure(figsize=(10, 6))\n",
    "sns.barplot(x=['Birth Rate', 'Date Rate'], y=[child_birth_rate, elderly_death_rate], palette='muted')\n",
    "plt.title('Birth Rate vs Death Rate')\n",
    "\n",
    "plt.savefig(\"birth_rate.png\")\n",
    "\n",
    "plt.ylabel('Count')\n",
    "plt.show()"
   ]
  }
 ],
 "metadata": {
  "kernelspec": {
   "display_name": "Python 3 (ipykernel)",
   "language": "python",
   "name": "python3"
  },
  "language_info": {
   "codemirror_mode": {
    "name": "ipython",
    "version": 3
   },
   "file_extension": ".py",
   "mimetype": "text/x-python",
   "name": "python",
   "nbconvert_exporter": "python",
   "pygments_lexer": "ipython3",
   "version": "3.11.5"
  }
 },
 "nbformat": 4,
 "nbformat_minor": 5
}
